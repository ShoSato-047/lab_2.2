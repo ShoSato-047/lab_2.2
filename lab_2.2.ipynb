{
 "cells": [
  {
   "cell_type": "markdown",
   "id": "b5f7c620-3608-458a-aeab-df30ac80c67e",
   "metadata": {},
   "source": [
    "# Part 1: Gold Glove Award"
   ]
  },
  {
   "cell_type": "code",
   "execution_count": 49,
   "id": "cb7091b7-c1cf-4903-ba6f-f175a6c7430c",
   "metadata": {},
   "outputs": [],
   "source": [
    "import polars as pl"
   ]
  },
  {
   "cell_type": "markdown",
   "id": "2e1934b6-4c93-4b1e-8292-42021a54c4a6",
   "metadata": {
    "jp-MarkdownHeadingCollapsed": true
   },
   "source": [
    "## Fielding"
   ]
  },
  {
   "cell_type": "code",
   "execution_count": 50,
   "id": "5561aacc-367b-4fff-aab2-504b7bace32b",
   "metadata": {},
   "outputs": [
    {
     "data": {
      "text/html": [
       "<div><style>\n",
       ".dataframe > thead > tr,\n",
       ".dataframe > tbody > tr {\n",
       "  text-align: right;\n",
       "  white-space: pre-wrap;\n",
       "}\n",
       "</style>\n",
       "<small>shape: (5, 18)</small><table border=\"1\" class=\"dataframe\"><thead><tr><th>playerID</th><th>yearID</th><th>stint</th><th>teamID</th><th>lgID</th><th>POS</th><th>G</th><th>GS</th><th>InnOuts</th><th>PO</th><th>A</th><th>E</th><th>DP</th><th>PB</th><th>WP</th><th>SB</th><th>CS</th><th>ZR</th></tr><tr><td>str</td><td>i64</td><td>i64</td><td>str</td><td>str</td><td>str</td><td>i64</td><td>i64</td><td>i64</td><td>i64</td><td>i64</td><td>i64</td><td>i64</td><td>str</td><td>str</td><td>str</td><td>str</td><td>str</td></tr></thead><tbody><tr><td>&quot;aardsda01&quot;</td><td>2004</td><td>1</td><td>&quot;SFN&quot;</td><td>&quot;NL&quot;</td><td>&quot;P&quot;</td><td>11</td><td>0</td><td>32</td><td>0</td><td>0</td><td>0</td><td>0</td><td>null</td><td>null</td><td>null</td><td>null</td><td>null</td></tr><tr><td>&quot;aardsda01&quot;</td><td>2006</td><td>1</td><td>&quot;CHN&quot;</td><td>&quot;NL&quot;</td><td>&quot;P&quot;</td><td>45</td><td>0</td><td>159</td><td>1</td><td>5</td><td>0</td><td>1</td><td>null</td><td>null</td><td>null</td><td>null</td><td>null</td></tr><tr><td>&quot;aardsda01&quot;</td><td>2007</td><td>1</td><td>&quot;CHA&quot;</td><td>&quot;AL&quot;</td><td>&quot;P&quot;</td><td>25</td><td>0</td><td>97</td><td>2</td><td>4</td><td>1</td><td>0</td><td>null</td><td>null</td><td>null</td><td>null</td><td>null</td></tr><tr><td>&quot;aardsda01&quot;</td><td>2008</td><td>1</td><td>&quot;BOS&quot;</td><td>&quot;AL&quot;</td><td>&quot;P&quot;</td><td>47</td><td>0</td><td>146</td><td>3</td><td>6</td><td>0</td><td>0</td><td>null</td><td>null</td><td>null</td><td>null</td><td>null</td></tr><tr><td>&quot;aardsda01&quot;</td><td>2009</td><td>1</td><td>&quot;SEA&quot;</td><td>&quot;AL&quot;</td><td>&quot;P&quot;</td><td>73</td><td>0</td><td>214</td><td>2</td><td>5</td><td>0</td><td>1</td><td>null</td><td>null</td><td>null</td><td>null</td><td>null</td></tr></tbody></table></div>"
      ],
      "text/plain": [
       "shape: (5, 18)\n",
       "┌───────────┬────────┬───────┬────────┬───┬──────┬──────┬──────┬──────┐\n",
       "│ playerID  ┆ yearID ┆ stint ┆ teamID ┆ … ┆ WP   ┆ SB   ┆ CS   ┆ ZR   │\n",
       "│ ---       ┆ ---    ┆ ---   ┆ ---    ┆   ┆ ---  ┆ ---  ┆ ---  ┆ ---  │\n",
       "│ str       ┆ i64    ┆ i64   ┆ str    ┆   ┆ str  ┆ str  ┆ str  ┆ str  │\n",
       "╞═══════════╪════════╪═══════╪════════╪═══╪══════╪══════╪══════╪══════╡\n",
       "│ aardsda01 ┆ 2004   ┆ 1     ┆ SFN    ┆ … ┆ null ┆ null ┆ null ┆ null │\n",
       "│ aardsda01 ┆ 2006   ┆ 1     ┆ CHN    ┆ … ┆ null ┆ null ┆ null ┆ null │\n",
       "│ aardsda01 ┆ 2007   ┆ 1     ┆ CHA    ┆ … ┆ null ┆ null ┆ null ┆ null │\n",
       "│ aardsda01 ┆ 2008   ┆ 1     ┆ BOS    ┆ … ┆ null ┆ null ┆ null ┆ null │\n",
       "│ aardsda01 ┆ 2009   ┆ 1     ┆ SEA    ┆ … ┆ null ┆ null ┆ null ┆ null │\n",
       "└───────────┴────────┴───────┴────────┴───┴──────┴──────┴──────┴──────┘"
      ]
     },
     "execution_count": 50,
     "metadata": {},
     "output_type": "execute_result"
    }
   ],
   "source": [
    "fielding = pl.read_csv(\"./data/lahman_1871-2023_csv/Fielding.csv\")\n",
    "fielding.head()"
   ]
  },
  {
   "cell_type": "code",
   "execution_count": 60,
   "id": "777b051e-e38a-4ebc-aeef-7c33a8245b8b",
   "metadata": {},
   "outputs": [
    {
     "data": {
      "text/html": [
       "<div><style>\n",
       ".dataframe > thead > tr,\n",
       ".dataframe > tbody > tr {\n",
       "  text-align: right;\n",
       "  white-space: pre-wrap;\n",
       "}\n",
       "</style>\n",
       "<small>shape: (22_237, 4)</small><table border=\"1\" class=\"dataframe\"><thead><tr><th>playerID</th><th>yearID</th><th>lgID</th><th>POS</th></tr><tr><td>str</td><td>i64</td><td>str</td><td>str</td></tr></thead><tbody><tr><td>&quot;aardsda01&quot;</td><td>2013</td><td>&quot;NL&quot;</td><td>&quot;P&quot;</td></tr><tr><td>&quot;aardsda01&quot;</td><td>2015</td><td>&quot;NL&quot;</td><td>&quot;P&quot;</td></tr><tr><td>&quot;abadfe01&quot;</td><td>2013</td><td>&quot;NL&quot;</td><td>&quot;P&quot;</td></tr><tr><td>&quot;abadfe01&quot;</td><td>2014</td><td>&quot;AL&quot;</td><td>&quot;P&quot;</td></tr><tr><td>&quot;abadfe01&quot;</td><td>2015</td><td>&quot;AL&quot;</td><td>&quot;P&quot;</td></tr><tr><td>&hellip;</td><td>&hellip;</td><td>&hellip;</td><td>&hellip;</td></tr><tr><td>&quot;zuninmi01&quot;</td><td>2022</td><td>&quot;AL&quot;</td><td>&quot;C&quot;</td></tr><tr><td>&quot;zuninmi01&quot;</td><td>2023</td><td>&quot;AL&quot;</td><td>&quot;C&quot;</td></tr><tr><td>&quot;zychto01&quot;</td><td>2015</td><td>&quot;AL&quot;</td><td>&quot;P&quot;</td></tr><tr><td>&quot;zychto01&quot;</td><td>2016</td><td>&quot;AL&quot;</td><td>&quot;P&quot;</td></tr><tr><td>&quot;zychto01&quot;</td><td>2017</td><td>&quot;AL&quot;</td><td>&quot;P&quot;</td></tr></tbody></table></div>"
      ],
      "text/plain": [
       "shape: (22_237, 4)\n",
       "┌───────────┬────────┬──────┬─────┐\n",
       "│ playerID  ┆ yearID ┆ lgID ┆ POS │\n",
       "│ ---       ┆ ---    ┆ ---  ┆ --- │\n",
       "│ str       ┆ i64    ┆ str  ┆ str │\n",
       "╞═══════════╪════════╪══════╪═════╡\n",
       "│ aardsda01 ┆ 2013   ┆ NL   ┆ P   │\n",
       "│ aardsda01 ┆ 2015   ┆ NL   ┆ P   │\n",
       "│ abadfe01  ┆ 2013   ┆ NL   ┆ P   │\n",
       "│ abadfe01  ┆ 2014   ┆ AL   ┆ P   │\n",
       "│ abadfe01  ┆ 2015   ┆ AL   ┆ P   │\n",
       "│ …         ┆ …      ┆ …    ┆ …   │\n",
       "│ zuninmi01 ┆ 2022   ┆ AL   ┆ C   │\n",
       "│ zuninmi01 ┆ 2023   ┆ AL   ┆ C   │\n",
       "│ zychto01  ┆ 2015   ┆ AL   ┆ P   │\n",
       "│ zychto01  ┆ 2016   ┆ AL   ┆ P   │\n",
       "│ zychto01  ┆ 2017   ┆ AL   ┆ P   │\n",
       "└───────────┴────────┴──────┴─────┘"
      ]
     },
     "execution_count": 60,
     "metadata": {},
     "output_type": "execute_result"
    }
   ],
   "source": [
    "# POS = position\n",
    "\n",
    "fielding_clean = (fielding\n",
    "                 .select(['playerID', 'yearID', 'lgID', 'POS'])\n",
    "                 .filter(pl.col('yearID') >= 2013)\n",
    "                 )\n",
    "fielding_clean"
   ]
  },
  {
   "cell_type": "markdown",
   "id": "9b610a02-38cb-4684-8b89-9ee736f8e0d8",
   "metadata": {
    "jp-MarkdownHeadingCollapsed": true
   },
   "source": [
    "## Awards"
   ]
  },
  {
   "cell_type": "code",
   "execution_count": 6,
   "id": "86fd44e2-7a58-40bb-9d6c-67308c8ad7ec",
   "metadata": {},
   "outputs": [
    {
     "data": {
      "text/html": [
       "<div><style>\n",
       ".dataframe > thead > tr,\n",
       ".dataframe > tbody > tr {\n",
       "  text-align: right;\n",
       "  white-space: pre-wrap;\n",
       "}\n",
       "</style>\n",
       "<small>shape: (5, 6)</small><table border=\"1\" class=\"dataframe\"><thead><tr><th>playerID</th><th>awardID</th><th>yearID</th><th>lgID</th><th>tie</th><th>notes</th></tr><tr><td>str</td><td>str</td><td>i64</td><td>str</td><td>str</td><td>str</td></tr></thead><tbody><tr><td>&quot;poseybu01&quot;</td><td>&quot;Lou Gehrig Memorial Award&quot;</td><td>2019</td><td>&quot;ML&quot;</td><td>null</td><td>null</td></tr><tr><td>&quot;klubeco01&quot;</td><td>&quot;Lou Gehrig Memorial Award&quot;</td><td>2018</td><td>&quot;ML&quot;</td><td>null</td><td>null</td></tr><tr><td>&quot;vottojo01&quot;</td><td>&quot;Lou Gehrig Memorial Award&quot;</td><td>2017</td><td>&quot;ML&quot;</td><td>null</td><td>null</td></tr><tr><td>&quot;altuvjo01&quot;</td><td>&quot;Lou Gehrig Memorial Award&quot;</td><td>2016</td><td>&quot;ML&quot;</td><td>null</td><td>null</td></tr><tr><td>&quot;grandcu01&quot;</td><td>&quot;Lou Gehrig Memorial Award&quot;</td><td>2015</td><td>&quot;ML&quot;</td><td>null</td><td>null</td></tr></tbody></table></div>"
      ],
      "text/plain": [
       "shape: (5, 6)\n",
       "┌───────────┬───────────────────────────┬────────┬──────┬──────┬───────┐\n",
       "│ playerID  ┆ awardID                   ┆ yearID ┆ lgID ┆ tie  ┆ notes │\n",
       "│ ---       ┆ ---                       ┆ ---    ┆ ---  ┆ ---  ┆ ---   │\n",
       "│ str       ┆ str                       ┆ i64    ┆ str  ┆ str  ┆ str   │\n",
       "╞═══════════╪═══════════════════════════╪════════╪══════╪══════╪═══════╡\n",
       "│ poseybu01 ┆ Lou Gehrig Memorial Award ┆ 2019   ┆ ML   ┆ null ┆ null  │\n",
       "│ klubeco01 ┆ Lou Gehrig Memorial Award ┆ 2018   ┆ ML   ┆ null ┆ null  │\n",
       "│ vottojo01 ┆ Lou Gehrig Memorial Award ┆ 2017   ┆ ML   ┆ null ┆ null  │\n",
       "│ altuvjo01 ┆ Lou Gehrig Memorial Award ┆ 2016   ┆ ML   ┆ null ┆ null  │\n",
       "│ grandcu01 ┆ Lou Gehrig Memorial Award ┆ 2015   ┆ ML   ┆ null ┆ null  │\n",
       "└───────────┴───────────────────────────┴────────┴──────┴──────┴───────┘"
      ]
     },
     "execution_count": 6,
     "metadata": {},
     "output_type": "execute_result"
    }
   ],
   "source": [
    "awards_players = pl.read_csv(\"./data/lahman_1871-2023_csv/AwardsPlayers.csv\")\n",
    "awards_players.head()"
   ]
  },
  {
   "cell_type": "code",
   "execution_count": 7,
   "id": "18de0d7f-c149-47d4-9463-c494a4d594df",
   "metadata": {},
   "outputs": [
    {
     "data": {
      "text/plain": [
       "['ALCS MVP',\n",
       " 'Gold Glove',\n",
       " 'TSN Pitcher of the Year',\n",
       " 'Triple Crown',\n",
       " 'Rookie of the Year',\n",
       " 'TSN Major League Player of the Year',\n",
       " 'Hutch Award',\n",
       " 'TSN Fireman of the Year',\n",
       " 'Silver Slugger',\n",
       " 'Hank Aaron Award',\n",
       " 'Platinum Glove',\n",
       " 'TSN Reliever of the Year',\n",
       " 'World Series MVP',\n",
       " 'TSN Guide MVP',\n",
       " 'NLCS MVP',\n",
       " 'TSN Player of the Year',\n",
       " 'Baseball Magazine All-Star',\n",
       " 'Most Valuable Player',\n",
       " 'Comeback Player of the Year',\n",
       " 'Roberto Clemente Award',\n",
       " 'Pitching Triple Crown',\n",
       " 'Cy Young Award',\n",
       " 'Babe Ruth Award',\n",
       " 'Lou Gehrig Memorial Award',\n",
       " 'Branch Rickey Award',\n",
       " 'Reliever of the Year Award',\n",
       " 'All-Star Game MVP',\n",
       " 'Outstanding DH Award',\n",
       " 'TSN All-Star',\n",
       " 'SIlver Slugger']"
      ]
     },
     "execution_count": 7,
     "metadata": {},
     "output_type": "execute_result"
    }
   ],
   "source": [
    "# Checking the name of the award\n",
    "\n",
    "awards_players['awardID'].unique().to_list()"
   ]
  },
  {
   "cell_type": "code",
   "execution_count": 61,
   "id": "4b5ee60a-bd5f-463b-b1a8-0dd78331d4b6",
   "metadata": {},
   "outputs": [
    {
     "data": {
      "text/html": [
       "<div><style>\n",
       ".dataframe > thead > tr,\n",
       ".dataframe > tbody > tr {\n",
       "  text-align: right;\n",
       "  white-space: pre-wrap;\n",
       "}\n",
       "</style>\n",
       "<small>shape: (203, 5)</small><table border=\"1\" class=\"dataframe\"><thead><tr><th>playerID</th><th>yearID</th><th>lgID</th><th>awardID</th><th>notes</th></tr><tr><td>str</td><td>i64</td><td>str</td><td>str</td><td>str</td></tr></thead><tbody><tr><td>&quot;kineris01&quot;</td><td>2020</td><td>&quot;AL&quot;</td><td>&quot;Gold Glove&quot;</td><td>&quot;3B&quot;</td></tr><tr><td>&quot;crawfjp01&quot;</td><td>2020</td><td>&quot;AL&quot;</td><td>&quot;Gold Glove&quot;</td><td>&quot;SS&quot;</td></tr><tr><td>&quot;roberlu01&quot;</td><td>2020</td><td>&quot;AL&quot;</td><td>&quot;Gold Glove&quot;</td><td>&quot;LF&quot;</td></tr><tr><td>&quot;gordoal01&quot;</td><td>2020</td><td>&quot;AL&quot;</td><td>&quot;Gold Glove&quot;</td><td>&quot;CF&quot;</td></tr><tr><td>&quot;gallojo01&quot;</td><td>2020</td><td>&quot;AL&quot;</td><td>&quot;Gold Glove&quot;</td><td>&quot;RF&quot;</td></tr><tr><td>&hellip;</td><td>&hellip;</td><td>&hellip;</td><td>&hellip;</td><td>&hellip;</td></tr><tr><td>&quot;barnhtu01&quot;</td><td>2017</td><td>&quot;NL&quot;</td><td>&quot;Gold Glove&quot;</td><td>&quot;C&quot;</td></tr><tr><td>&quot;goldspa01&quot;</td><td>2017</td><td>&quot;NL&quot;</td><td>&quot;Gold Glove&quot;</td><td>&quot;1B&quot;</td></tr><tr><td>&quot;lemahdj01&quot;</td><td>2017</td><td>&quot;NL&quot;</td><td>&quot;Gold Glove&quot;</td><td>&quot;2B&quot;</td></tr><tr><td>&quot;arenano01&quot;</td><td>2017</td><td>&quot;NL&quot;</td><td>&quot;Gold Glove&quot;</td><td>&quot;3B&quot;</td></tr><tr><td>&quot;crawfbr01&quot;</td><td>2017</td><td>&quot;NL&quot;</td><td>&quot;Gold Glove&quot;</td><td>&quot;SS&quot;</td></tr></tbody></table></div>"
      ],
      "text/plain": [
       "shape: (203, 5)\n",
       "┌───────────┬────────┬──────┬────────────┬───────┐\n",
       "│ playerID  ┆ yearID ┆ lgID ┆ awardID    ┆ notes │\n",
       "│ ---       ┆ ---    ┆ ---  ┆ ---        ┆ ---   │\n",
       "│ str       ┆ i64    ┆ str  ┆ str        ┆ str   │\n",
       "╞═══════════╪════════╪══════╪════════════╪═══════╡\n",
       "│ kineris01 ┆ 2020   ┆ AL   ┆ Gold Glove ┆ 3B    │\n",
       "│ crawfjp01 ┆ 2020   ┆ AL   ┆ Gold Glove ┆ SS    │\n",
       "│ roberlu01 ┆ 2020   ┆ AL   ┆ Gold Glove ┆ LF    │\n",
       "│ gordoal01 ┆ 2020   ┆ AL   ┆ Gold Glove ┆ CF    │\n",
       "│ gallojo01 ┆ 2020   ┆ AL   ┆ Gold Glove ┆ RF    │\n",
       "│ …         ┆ …      ┆ …    ┆ …          ┆ …     │\n",
       "│ barnhtu01 ┆ 2017   ┆ NL   ┆ Gold Glove ┆ C     │\n",
       "│ goldspa01 ┆ 2017   ┆ NL   ┆ Gold Glove ┆ 1B    │\n",
       "│ lemahdj01 ┆ 2017   ┆ NL   ┆ Gold Glove ┆ 2B    │\n",
       "│ arenano01 ┆ 2017   ┆ NL   ┆ Gold Glove ┆ 3B    │\n",
       "│ crawfbr01 ┆ 2017   ┆ NL   ┆ Gold Glove ┆ SS    │\n",
       "└───────────┴────────┴──────┴────────────┴───────┘"
      ]
     },
     "execution_count": 61,
     "metadata": {},
     "output_type": "execute_result"
    }
   ],
   "source": [
    "awards_clean = (awards_players\n",
    "                .select(['playerID', 'yearID', 'lgID', 'awardID', 'notes'])\n",
    "                .filter(pl.col('yearID') >= 2013)\n",
    "                .filter(pl.col('awardID') == 'Gold Glove')\n",
    "         )\n",
    "awards_clean"
   ]
  },
  {
   "cell_type": "code",
   "execution_count": 9,
   "id": "ed63929c-f597-412a-8612-53099b6877e9",
   "metadata": {},
   "outputs": [
    {
     "data": {
      "text/plain": [
       "[2013, 2014, 2015, 2016, 2017, 2018, 2019, 2020, 2021, 2022, 2023]"
      ]
     },
     "execution_count": 9,
     "metadata": {},
     "output_type": "execute_result"
    }
   ],
   "source": [
    "# Checking the most recent year in the dataset\n",
    "\n",
    "fielding_clean['yearID'].unique().to_list()"
   ]
  },
  {
   "cell_type": "markdown",
   "id": "1e8ddfcc-3a03-4be3-a01d-3da94c8df705",
   "metadata": {
    "jp-MarkdownHeadingCollapsed": true
   },
   "source": [
    "## Join"
   ]
  },
  {
   "cell_type": "code",
   "execution_count": 64,
   "id": "6f45b6c9-065c-4f8c-82f0-930269767f96",
   "metadata": {},
   "outputs": [
    {
     "data": {
      "text/html": [
       "<div><style>\n",
       ".dataframe > thead > tr,\n",
       ".dataframe > tbody > tr {\n",
       "  text-align: right;\n",
       "  white-space: pre-wrap;\n",
       "}\n",
       "</style>\n",
       "<small>shape: (22_237, 7)</small><table border=\"1\" class=\"dataframe\"><thead><tr><th>playerID</th><th>yearID</th><th>lgID</th><th>POS</th><th>awardID</th><th>gold_glove</th><th>Training_Validation</th></tr><tr><td>str</td><td>i64</td><td>str</td><td>str</td><td>str</td><td>str</td><td>str</td></tr></thead><tbody><tr><td>&quot;aardsda01&quot;</td><td>2013</td><td>&quot;NL&quot;</td><td>&quot;P&quot;</td><td>null</td><td>&quot;NO&quot;</td><td>&quot;Training&quot;</td></tr><tr><td>&quot;aardsda01&quot;</td><td>2015</td><td>&quot;NL&quot;</td><td>&quot;P&quot;</td><td>null</td><td>&quot;NO&quot;</td><td>&quot;Training&quot;</td></tr><tr><td>&quot;abadfe01&quot;</td><td>2013</td><td>&quot;NL&quot;</td><td>&quot;P&quot;</td><td>null</td><td>&quot;NO&quot;</td><td>&quot;Training&quot;</td></tr><tr><td>&quot;abadfe01&quot;</td><td>2014</td><td>&quot;AL&quot;</td><td>&quot;P&quot;</td><td>null</td><td>&quot;NO&quot;</td><td>&quot;Training&quot;</td></tr><tr><td>&quot;abadfe01&quot;</td><td>2015</td><td>&quot;AL&quot;</td><td>&quot;P&quot;</td><td>null</td><td>&quot;NO&quot;</td><td>&quot;Training&quot;</td></tr><tr><td>&hellip;</td><td>&hellip;</td><td>&hellip;</td><td>&hellip;</td><td>&hellip;</td><td>&hellip;</td><td>&hellip;</td></tr><tr><td>&quot;zuninmi01&quot;</td><td>2022</td><td>&quot;AL&quot;</td><td>&quot;C&quot;</td><td>null</td><td>&quot;NO&quot;</td><td>&quot;Training&quot;</td></tr><tr><td>&quot;zuninmi01&quot;</td><td>2023</td><td>&quot;AL&quot;</td><td>&quot;C&quot;</td><td>null</td><td>&quot;NO&quot;</td><td>&quot;Validation&quot;</td></tr><tr><td>&quot;zychto01&quot;</td><td>2015</td><td>&quot;AL&quot;</td><td>&quot;P&quot;</td><td>null</td><td>&quot;NO&quot;</td><td>&quot;Training&quot;</td></tr><tr><td>&quot;zychto01&quot;</td><td>2016</td><td>&quot;AL&quot;</td><td>&quot;P&quot;</td><td>null</td><td>&quot;NO&quot;</td><td>&quot;Training&quot;</td></tr><tr><td>&quot;zychto01&quot;</td><td>2017</td><td>&quot;AL&quot;</td><td>&quot;P&quot;</td><td>null</td><td>&quot;NO&quot;</td><td>&quot;Training&quot;</td></tr></tbody></table></div>"
      ],
      "text/plain": [
       "shape: (22_237, 7)\n",
       "┌───────────┬────────┬──────┬─────┬─────────┬────────────┬─────────────────────┐\n",
       "│ playerID  ┆ yearID ┆ lgID ┆ POS ┆ awardID ┆ gold_glove ┆ Training_Validation │\n",
       "│ ---       ┆ ---    ┆ ---  ┆ --- ┆ ---     ┆ ---        ┆ ---                 │\n",
       "│ str       ┆ i64    ┆ str  ┆ str ┆ str     ┆ str        ┆ str                 │\n",
       "╞═══════════╪════════╪══════╪═════╪═════════╪════════════╪═════════════════════╡\n",
       "│ aardsda01 ┆ 2013   ┆ NL   ┆ P   ┆ null    ┆ NO         ┆ Training            │\n",
       "│ aardsda01 ┆ 2015   ┆ NL   ┆ P   ┆ null    ┆ NO         ┆ Training            │\n",
       "│ abadfe01  ┆ 2013   ┆ NL   ┆ P   ┆ null    ┆ NO         ┆ Training            │\n",
       "│ abadfe01  ┆ 2014   ┆ AL   ┆ P   ┆ null    ┆ NO         ┆ Training            │\n",
       "│ abadfe01  ┆ 2015   ┆ AL   ┆ P   ┆ null    ┆ NO         ┆ Training            │\n",
       "│ …         ┆ …      ┆ …    ┆ …   ┆ …       ┆ …          ┆ …                   │\n",
       "│ zuninmi01 ┆ 2022   ┆ AL   ┆ C   ┆ null    ┆ NO         ┆ Training            │\n",
       "│ zuninmi01 ┆ 2023   ┆ AL   ┆ C   ┆ null    ┆ NO         ┆ Validation          │\n",
       "│ zychto01  ┆ 2015   ┆ AL   ┆ P   ┆ null    ┆ NO         ┆ Training            │\n",
       "│ zychto01  ┆ 2016   ┆ AL   ┆ P   ┆ null    ┆ NO         ┆ Training            │\n",
       "│ zychto01  ┆ 2017   ┆ AL   ┆ P   ┆ null    ┆ NO         ┆ Training            │\n",
       "└───────────┴────────┴──────┴─────┴─────────┴────────────┴─────────────────────┘"
      ]
     },
     "execution_count": 64,
     "metadata": {},
     "output_type": "execute_result"
    }
   ],
   "source": [
    "# Using left join because we want to keep all players who did and who did not receive the award\n",
    "# Don't use 'group_by' since there is nothing to aggregate on\n",
    "# 'join' works like 'group_by' in this dataset  \n",
    "\n",
    "gold_glove = (fielding_clean\n",
    "              .join(awards_clean,\n",
    "                    left_on = ['playerID', 'yearID', 'lgID', 'POS'],\n",
    "                    right_on = ['playerID', 'yearID', 'lgID', 'notes'],\n",
    "                    how = 'left'\n",
    "                   )\n",
    "              .with_columns(gold_glove = pl.when(pl.col('awardID') == 'Gold Glove')\n",
    "                                           .then(pl.lit('Yes'))\n",
    "                                           .otherwise(pl.lit('NO')),\n",
    "                            Training_Validation = pl.when(pl.col('yearID') == 2023)\n",
    "                                                    .then(pl.lit('Validation'))\n",
    "                                                    .otherwise(pl.lit('Training'))\n",
    "                                              )\n",
    "             )\n",
    "gold_glove"
   ]
  },
  {
   "cell_type": "code",
   "execution_count": 65,
   "id": "ecb314ec-f1da-400c-8bd2-eebf3a3dbd6c",
   "metadata": {},
   "outputs": [],
   "source": [
    "gold_glove.write_csv(\"./data/gold_glove.csv\")"
   ]
  },
  {
   "cell_type": "markdown",
   "id": "081a3d43-2f13-4cb3-aafe-0f3d9c0bc12c",
   "metadata": {},
   "source": [
    "# Part2: Salary"
   ]
  },
  {
   "cell_type": "markdown",
   "id": "3110fb8b-1fd1-4612-84eb-7f979a6a96a7",
   "metadata": {
    "jp-MarkdownHeadingCollapsed": true
   },
   "source": [
    "## Salary"
   ]
  },
  {
   "cell_type": "code",
   "execution_count": 11,
   "id": "0c91537f-8ea7-4e02-a2e7-329af1329eda",
   "metadata": {},
   "outputs": [
    {
     "data": {
      "text/html": [
       "<div><style>\n",
       ".dataframe > thead > tr,\n",
       ".dataframe > tbody > tr {\n",
       "  text-align: right;\n",
       "  white-space: pre-wrap;\n",
       "}\n",
       "</style>\n",
       "<small>shape: (5, 5)</small><table border=\"1\" class=\"dataframe\"><thead><tr><th>yearID</th><th>teamID</th><th>lgID</th><th>playerID</th><th>salary</th></tr><tr><td>i64</td><td>str</td><td>str</td><td>str</td><td>i64</td></tr></thead><tbody><tr><td>1985</td><td>&quot;ATL&quot;</td><td>&quot;NL&quot;</td><td>&quot;barkele01&quot;</td><td>870000</td></tr><tr><td>1985</td><td>&quot;ATL&quot;</td><td>&quot;NL&quot;</td><td>&quot;bedrost01&quot;</td><td>550000</td></tr><tr><td>1985</td><td>&quot;ATL&quot;</td><td>&quot;NL&quot;</td><td>&quot;benedbr01&quot;</td><td>545000</td></tr><tr><td>1985</td><td>&quot;ATL&quot;</td><td>&quot;NL&quot;</td><td>&quot;campri01&quot;</td><td>633333</td></tr><tr><td>1985</td><td>&quot;ATL&quot;</td><td>&quot;NL&quot;</td><td>&quot;ceronri01&quot;</td><td>625000</td></tr></tbody></table></div>"
      ],
      "text/plain": [
       "shape: (5, 5)\n",
       "┌────────┬────────┬──────┬───────────┬────────┐\n",
       "│ yearID ┆ teamID ┆ lgID ┆ playerID  ┆ salary │\n",
       "│ ---    ┆ ---    ┆ ---  ┆ ---       ┆ ---    │\n",
       "│ i64    ┆ str    ┆ str  ┆ str       ┆ i64    │\n",
       "╞════════╪════════╪══════╪═══════════╪════════╡\n",
       "│ 1985   ┆ ATL    ┆ NL   ┆ barkele01 ┆ 870000 │\n",
       "│ 1985   ┆ ATL    ┆ NL   ┆ bedrost01 ┆ 550000 │\n",
       "│ 1985   ┆ ATL    ┆ NL   ┆ benedbr01 ┆ 545000 │\n",
       "│ 1985   ┆ ATL    ┆ NL   ┆ campri01  ┆ 633333 │\n",
       "│ 1985   ┆ ATL    ┆ NL   ┆ ceronri01 ┆ 625000 │\n",
       "└────────┴────────┴──────┴───────────┴────────┘"
      ]
     },
     "execution_count": 11,
     "metadata": {},
     "output_type": "execute_result"
    }
   ],
   "source": [
    "salaries = pl.read_csv(\"./data/lahman_1871-2023_csv/Salaries.csv\")\n",
    "salaries.head()"
   ]
  },
  {
   "cell_type": "code",
   "execution_count": 12,
   "id": "72f0408a-d93c-4342-ad75-7c277cbaebff",
   "metadata": {},
   "outputs": [
    {
     "data": {
      "text/html": [
       "<div><style>\n",
       ".dataframe > thead > tr,\n",
       ".dataframe > tbody > tr {\n",
       "  text-align: right;\n",
       "  white-space: pre-wrap;\n",
       "}\n",
       "</style>\n",
       "<small>shape: (5, 3)</small><table border=\"1\" class=\"dataframe\"><thead><tr><th>playerID</th><th>yearID</th><th>salary</th></tr><tr><td>str</td><td>i64</td><td>f64</td></tr></thead><tbody><tr><td>&quot;metcatr01&quot;</td><td>2008</td><td>392000.0</td></tr><tr><td>&quot;garkory01&quot;</td><td>2010</td><td>550000.0</td></tr><tr><td>&quot;sanchga01&quot;</td><td>2012</td><td>483000.0</td></tr><tr><td>&quot;hoffmtr01&quot;</td><td>2007</td><td>7e6</td></tr><tr><td>&quot;mauerjo01&quot;</td><td>2006</td><td>400000.0</td></tr></tbody></table></div>"
      ],
      "text/plain": [
       "shape: (5, 3)\n",
       "┌───────────┬────────┬──────────┐\n",
       "│ playerID  ┆ yearID ┆ salary   │\n",
       "│ ---       ┆ ---    ┆ ---      │\n",
       "│ str       ┆ i64    ┆ f64      │\n",
       "╞═══════════╪════════╪══════════╡\n",
       "│ metcatr01 ┆ 2008   ┆ 392000.0 │\n",
       "│ garkory01 ┆ 2010   ┆ 550000.0 │\n",
       "│ sanchga01 ┆ 2012   ┆ 483000.0 │\n",
       "│ hoffmtr01 ┆ 2007   ┆ 7e6      │\n",
       "│ mauerjo01 ┆ 2006   ┆ 400000.0 │\n",
       "└───────────┴────────┴──────────┘"
      ]
     },
     "execution_count": 12,
     "metadata": {},
     "output_type": "execute_result"
    }
   ],
   "source": [
    "salaries_clean = (salaries\n",
    "                  .filter(pl.col('yearID') >= 2006)\n",
    "                  .group_by(['playerID','yearID'])\n",
    "                  .mean()\n",
    "                  .drop(['teamID',\n",
    "                         'lgID'\n",
    "                        ])\n",
    "                 )\n",
    "salaries_clean.head()"
   ]
  },
  {
   "cell_type": "code",
   "execution_count": 27,
   "id": "0ea9dd76-0296-4efe-b5ee-6a43c347be63",
   "metadata": {},
   "outputs": [
    {
     "data": {
      "text/plain": [
       "[2006, 2007, 2008, 2009, 2010, 2011, 2012, 2013, 2014, 2015, 2016]"
      ]
     },
     "execution_count": 27,
     "metadata": {},
     "output_type": "execute_result"
    }
   ],
   "source": [
    "# Making sure that 11 years of data is included \n",
    "\n",
    "salaries_clean['yearID'].unique().to_list()"
   ]
  },
  {
   "cell_type": "markdown",
   "id": "d9895fad-691e-4f22-8011-cdc51ecf453d",
   "metadata": {
    "jp-MarkdownHeadingCollapsed": true
   },
   "source": [
    "## Batting"
   ]
  },
  {
   "cell_type": "code",
   "execution_count": 13,
   "id": "a3a59b98-4edf-435b-8861-e23f28375902",
   "metadata": {},
   "outputs": [
    {
     "data": {
      "text/html": [
       "<div><style>\n",
       ".dataframe > thead > tr,\n",
       ".dataframe > tbody > tr {\n",
       "  text-align: right;\n",
       "  white-space: pre-wrap;\n",
       "}\n",
       "</style>\n",
       "<small>shape: (5, 24)</small><table border=\"1\" class=\"dataframe\"><thead><tr><th>playerID</th><th>yearID</th><th>stint</th><th>teamID</th><th>lgID</th><th>G</th><th>G_batting</th><th>AB</th><th>R</th><th>H</th><th>2B</th><th>3B</th><th>HR</th><th>RBI</th><th>SB</th><th>CS</th><th>BB</th><th>SO</th><th>IBB</th><th>HBP</th><th>SH</th><th>SF</th><th>GIDP</th><th>G_old</th></tr><tr><td>str</td><td>i64</td><td>i64</td><td>str</td><td>str</td><td>i64</td><td>i64</td><td>i64</td><td>i64</td><td>i64</td><td>i64</td><td>i64</td><td>i64</td><td>i64</td><td>i64</td><td>i64</td><td>i64</td><td>i64</td><td>i64</td><td>i64</td><td>i64</td><td>i64</td><td>i64</td><td>str</td></tr></thead><tbody><tr><td>&quot;aardsda01&quot;</td><td>2004</td><td>1</td><td>&quot;SFN&quot;</td><td>&quot;NL&quot;</td><td>11</td><td>null</td><td>0</td><td>0</td><td>0</td><td>0</td><td>0</td><td>0</td><td>0</td><td>0</td><td>0</td><td>0</td><td>0</td><td>0</td><td>0</td><td>0</td><td>0</td><td>0</td><td>null</td></tr><tr><td>&quot;aardsda01&quot;</td><td>2006</td><td>1</td><td>&quot;CHN&quot;</td><td>&quot;NL&quot;</td><td>45</td><td>null</td><td>2</td><td>0</td><td>0</td><td>0</td><td>0</td><td>0</td><td>0</td><td>0</td><td>0</td><td>0</td><td>0</td><td>0</td><td>0</td><td>1</td><td>0</td><td>0</td><td>null</td></tr><tr><td>&quot;aardsda01&quot;</td><td>2007</td><td>1</td><td>&quot;CHA&quot;</td><td>&quot;AL&quot;</td><td>25</td><td>null</td><td>0</td><td>0</td><td>0</td><td>0</td><td>0</td><td>0</td><td>0</td><td>0</td><td>0</td><td>0</td><td>0</td><td>0</td><td>0</td><td>0</td><td>0</td><td>0</td><td>null</td></tr><tr><td>&quot;aardsda01&quot;</td><td>2008</td><td>1</td><td>&quot;BOS&quot;</td><td>&quot;AL&quot;</td><td>47</td><td>null</td><td>1</td><td>0</td><td>0</td><td>0</td><td>0</td><td>0</td><td>0</td><td>0</td><td>0</td><td>0</td><td>1</td><td>0</td><td>0</td><td>0</td><td>0</td><td>0</td><td>null</td></tr><tr><td>&quot;aardsda01&quot;</td><td>2009</td><td>1</td><td>&quot;SEA&quot;</td><td>&quot;AL&quot;</td><td>73</td><td>null</td><td>0</td><td>0</td><td>0</td><td>0</td><td>0</td><td>0</td><td>0</td><td>0</td><td>0</td><td>0</td><td>0</td><td>0</td><td>0</td><td>0</td><td>0</td><td>0</td><td>null</td></tr></tbody></table></div>"
      ],
      "text/plain": [
       "shape: (5, 24)\n",
       "┌───────────┬────────┬───────┬────────┬───┬─────┬─────┬──────┬───────┐\n",
       "│ playerID  ┆ yearID ┆ stint ┆ teamID ┆ … ┆ SH  ┆ SF  ┆ GIDP ┆ G_old │\n",
       "│ ---       ┆ ---    ┆ ---   ┆ ---    ┆   ┆ --- ┆ --- ┆ ---  ┆ ---   │\n",
       "│ str       ┆ i64    ┆ i64   ┆ str    ┆   ┆ i64 ┆ i64 ┆ i64  ┆ str   │\n",
       "╞═══════════╪════════╪═══════╪════════╪═══╪═════╪═════╪══════╪═══════╡\n",
       "│ aardsda01 ┆ 2004   ┆ 1     ┆ SFN    ┆ … ┆ 0   ┆ 0   ┆ 0    ┆ null  │\n",
       "│ aardsda01 ┆ 2006   ┆ 1     ┆ CHN    ┆ … ┆ 1   ┆ 0   ┆ 0    ┆ null  │\n",
       "│ aardsda01 ┆ 2007   ┆ 1     ┆ CHA    ┆ … ┆ 0   ┆ 0   ┆ 0    ┆ null  │\n",
       "│ aardsda01 ┆ 2008   ┆ 1     ┆ BOS    ┆ … ┆ 0   ┆ 0   ┆ 0    ┆ null  │\n",
       "│ aardsda01 ┆ 2009   ┆ 1     ┆ SEA    ┆ … ┆ 0   ┆ 0   ┆ 0    ┆ null  │\n",
       "└───────────┴────────┴───────┴────────┴───┴─────┴─────┴──────┴───────┘"
      ]
     },
     "execution_count": 13,
     "metadata": {},
     "output_type": "execute_result"
    }
   ],
   "source": [
    "batting = pl.read_csv(\"./data/lahman_1871-2023_csv/Batting.csv\")\n",
    "batting.head()"
   ]
  },
  {
   "cell_type": "code",
   "execution_count": 14,
   "id": "849f0926-d35c-4782-9bc5-e22f6eaa2a07",
   "metadata": {},
   "outputs": [
    {
     "data": {
      "text/html": [
       "<div><style>\n",
       ".dataframe > thead > tr,\n",
       ".dataframe > tbody > tr {\n",
       "  text-align: right;\n",
       "  white-space: pre-wrap;\n",
       "}\n",
       "</style>\n",
       "<small>shape: (14_230, 21)</small><table border=\"1\" class=\"dataframe\"><thead><tr><th>playerID</th><th>yearID</th><th>stint</th><th>G</th><th>G_batting</th><th>AB</th><th>R</th><th>H</th><th>2B</th><th>3B</th><th>HR</th><th>RBI</th><th>SB</th><th>CS</th><th>BB</th><th>SO</th><th>IBB</th><th>HBP</th><th>SH</th><th>SF</th><th>GIDP</th></tr><tr><td>str</td><td>i64</td><td>i64</td><td>i64</td><td>i64</td><td>i64</td><td>i64</td><td>i64</td><td>i64</td><td>i64</td><td>i64</td><td>i64</td><td>i64</td><td>i64</td><td>i64</td><td>i64</td><td>i64</td><td>i64</td><td>i64</td><td>i64</td><td>i64</td></tr></thead><tbody><tr><td>&quot;valenjo03&quot;</td><td>2007</td><td>1</td><td>51</td><td>0</td><td>166</td><td>18</td><td>40</td><td>11</td><td>1</td><td>3</td><td>18</td><td>2</td><td>1</td><td>15</td><td>28</td><td>4</td><td>0</td><td>1</td><td>1</td><td>5</td></tr><tr><td>&quot;penara02&quot;</td><td>2012</td><td>1</td><td>3</td><td>0</td><td>4</td><td>0</td><td>1</td><td>0</td><td>0</td><td>0</td><td>0</td><td>0</td><td>0</td><td>0</td><td>0</td><td>0</td><td>0</td><td>0</td><td>0</td><td>0</td></tr><tr><td>&quot;embreal01&quot;</td><td>2009</td><td>1</td><td>36</td><td>0</td><td>0</td><td>0</td><td>0</td><td>0</td><td>0</td><td>0</td><td>0</td><td>0</td><td>0</td><td>0</td><td>0</td><td>0</td><td>0</td><td>0</td><td>0</td><td>0</td></tr><tr><td>&quot;hugheph01&quot;</td><td>2011</td><td>1</td><td>17</td><td>0</td><td>0</td><td>0</td><td>0</td><td>0</td><td>0</td><td>0</td><td>0</td><td>0</td><td>0</td><td>0</td><td>0</td><td>0</td><td>0</td><td>0</td><td>0</td><td>0</td></tr><tr><td>&quot;pedrodu01&quot;</td><td>2012</td><td>1</td><td>141</td><td>0</td><td>563</td><td>81</td><td>163</td><td>39</td><td>3</td><td>15</td><td>65</td><td>20</td><td>6</td><td>48</td><td>60</td><td>3</td><td>5</td><td>1</td><td>6</td><td>9</td></tr><tr><td>&hellip;</td><td>&hellip;</td><td>&hellip;</td><td>&hellip;</td><td>&hellip;</td><td>&hellip;</td><td>&hellip;</td><td>&hellip;</td><td>&hellip;</td><td>&hellip;</td><td>&hellip;</td><td>&hellip;</td><td>&hellip;</td><td>&hellip;</td><td>&hellip;</td><td>&hellip;</td><td>&hellip;</td><td>&hellip;</td><td>&hellip;</td><td>&hellip;</td><td>&hellip;</td></tr><tr><td>&quot;rasmuco02&quot;</td><td>2016</td><td>1</td><td>19</td><td>0</td><td>0</td><td>0</td><td>0</td><td>0</td><td>0</td><td>0</td><td>0</td><td>0</td><td>0</td><td>0</td><td>0</td><td>0</td><td>0</td><td>0</td><td>0</td><td>0</td></tr><tr><td>&quot;tallebr01&quot;</td><td>2008</td><td>1</td><td>51</td><td>0</td><td>0</td><td>0</td><td>0</td><td>0</td><td>0</td><td>0</td><td>0</td><td>0</td><td>0</td><td>0</td><td>0</td><td>0</td><td>0</td><td>0</td><td>0</td><td>0</td></tr><tr><td>&quot;calhoko01&quot;</td><td>2012</td><td>1</td><td>21</td><td>0</td><td>23</td><td>2</td><td>4</td><td>1</td><td>0</td><td>0</td><td>1</td><td>1</td><td>0</td><td>2</td><td>6</td><td>1</td><td>0</td><td>0</td><td>0</td><td>0</td></tr><tr><td>&quot;keplema01&quot;</td><td>2016</td><td>1</td><td>113</td><td>0</td><td>396</td><td>52</td><td>93</td><td>20</td><td>2</td><td>17</td><td>63</td><td>6</td><td>2</td><td>42</td><td>93</td><td>3</td><td>3</td><td>1</td><td>5</td><td>2</td></tr><tr><td>&quot;shoemma01&quot;</td><td>2016</td><td>1</td><td>27</td><td>0</td><td>2</td><td>0</td><td>0</td><td>0</td><td>0</td><td>0</td><td>0</td><td>0</td><td>0</td><td>0</td><td>1</td><td>0</td><td>0</td><td>0</td><td>0</td><td>0</td></tr></tbody></table></div>"
      ],
      "text/plain": [
       "shape: (14_230, 21)\n",
       "┌───────────┬────────┬───────┬─────┬───┬─────┬─────┬─────┬──────┐\n",
       "│ playerID  ┆ yearID ┆ stint ┆ G   ┆ … ┆ HBP ┆ SH  ┆ SF  ┆ GIDP │\n",
       "│ ---       ┆ ---    ┆ ---   ┆ --- ┆   ┆ --- ┆ --- ┆ --- ┆ ---  │\n",
       "│ str       ┆ i64    ┆ i64   ┆ i64 ┆   ┆ i64 ┆ i64 ┆ i64 ┆ i64  │\n",
       "╞═══════════╪════════╪═══════╪═════╪═══╪═════╪═════╪═════╪══════╡\n",
       "│ valenjo03 ┆ 2007   ┆ 1     ┆ 51  ┆ … ┆ 0   ┆ 1   ┆ 1   ┆ 5    │\n",
       "│ penara02  ┆ 2012   ┆ 1     ┆ 3   ┆ … ┆ 0   ┆ 0   ┆ 0   ┆ 0    │\n",
       "│ embreal01 ┆ 2009   ┆ 1     ┆ 36  ┆ … ┆ 0   ┆ 0   ┆ 0   ┆ 0    │\n",
       "│ hugheph01 ┆ 2011   ┆ 1     ┆ 17  ┆ … ┆ 0   ┆ 0   ┆ 0   ┆ 0    │\n",
       "│ pedrodu01 ┆ 2012   ┆ 1     ┆ 141 ┆ … ┆ 5   ┆ 1   ┆ 6   ┆ 9    │\n",
       "│ …         ┆ …      ┆ …     ┆ …   ┆ … ┆ …   ┆ …   ┆ …   ┆ …    │\n",
       "│ rasmuco02 ┆ 2016   ┆ 1     ┆ 19  ┆ … ┆ 0   ┆ 0   ┆ 0   ┆ 0    │\n",
       "│ tallebr01 ┆ 2008   ┆ 1     ┆ 51  ┆ … ┆ 0   ┆ 0   ┆ 0   ┆ 0    │\n",
       "│ calhoko01 ┆ 2012   ┆ 1     ┆ 21  ┆ … ┆ 0   ┆ 0   ┆ 0   ┆ 0    │\n",
       "│ keplema01 ┆ 2016   ┆ 1     ┆ 113 ┆ … ┆ 3   ┆ 1   ┆ 5   ┆ 2    │\n",
       "│ shoemma01 ┆ 2016   ┆ 1     ┆ 27  ┆ … ┆ 0   ┆ 0   ┆ 0   ┆ 0    │\n",
       "└───────────┴────────┴───────┴─────┴───┴─────┴─────┴─────┴──────┘"
      ]
     },
     "execution_count": 14,
     "metadata": {},
     "output_type": "execute_result"
    }
   ],
   "source": [
    "batting_clean = (batting\n",
    "                 .filter(pl.col('yearID') >= 2006,\n",
    "                         pl.col('yearID') <= 2016)\n",
    "                 .group_by(['playerID','yearID'])\n",
    "                 .sum()\n",
    "                 .drop(['teamID',\n",
    "                        'lgID',\n",
    "                        'G_old'\n",
    "                       ])\n",
    "                )\n",
    "batting_clean"
   ]
  },
  {
   "cell_type": "code",
   "execution_count": 22,
   "id": "9c729aae-9cd4-4320-af1d-413498099dfe",
   "metadata": {},
   "outputs": [
    {
     "data": {
      "text/plain": [
       "[2006, 2007, 2008, 2009, 2010, 2011, 2012, 2013, 2014, 2015, 2016]"
      ]
     },
     "execution_count": 22,
     "metadata": {},
     "output_type": "execute_result"
    }
   ],
   "source": [
    "# Making sure that 11 years of data is included \n",
    "\n",
    "batting_clean['yearID'].unique().to_list()"
   ]
  },
  {
   "cell_type": "markdown",
   "id": "3fd7d3a8-8ad7-4501-b1e6-16b78b782d0c",
   "metadata": {
    "jp-MarkdownHeadingCollapsed": true
   },
   "source": [
    "## Fielding"
   ]
  },
  {
   "cell_type": "code",
   "execution_count": 15,
   "id": "db7b0c00-f0c2-4ee7-b695-1c5363072de3",
   "metadata": {},
   "outputs": [
    {
     "data": {
      "text/html": [
       "<div><style>\n",
       ".dataframe > thead > tr,\n",
       ".dataframe > tbody > tr {\n",
       "  text-align: right;\n",
       "  white-space: pre-wrap;\n",
       "}\n",
       "</style>\n",
       "<small>shape: (5, 18)</small><table border=\"1\" class=\"dataframe\"><thead><tr><th>playerID</th><th>yearID</th><th>stint</th><th>teamID</th><th>lgID</th><th>POS</th><th>G</th><th>GS</th><th>InnOuts</th><th>PO</th><th>A</th><th>E</th><th>DP</th><th>PB</th><th>WP</th><th>SB</th><th>CS</th><th>ZR</th></tr><tr><td>str</td><td>i64</td><td>i64</td><td>str</td><td>str</td><td>str</td><td>i64</td><td>i64</td><td>i64</td><td>i64</td><td>i64</td><td>i64</td><td>i64</td><td>str</td><td>str</td><td>str</td><td>str</td><td>str</td></tr></thead><tbody><tr><td>&quot;aardsda01&quot;</td><td>2004</td><td>1</td><td>&quot;SFN&quot;</td><td>&quot;NL&quot;</td><td>&quot;P&quot;</td><td>11</td><td>0</td><td>32</td><td>0</td><td>0</td><td>0</td><td>0</td><td>null</td><td>null</td><td>null</td><td>null</td><td>null</td></tr><tr><td>&quot;aardsda01&quot;</td><td>2006</td><td>1</td><td>&quot;CHN&quot;</td><td>&quot;NL&quot;</td><td>&quot;P&quot;</td><td>45</td><td>0</td><td>159</td><td>1</td><td>5</td><td>0</td><td>1</td><td>null</td><td>null</td><td>null</td><td>null</td><td>null</td></tr><tr><td>&quot;aardsda01&quot;</td><td>2007</td><td>1</td><td>&quot;CHA&quot;</td><td>&quot;AL&quot;</td><td>&quot;P&quot;</td><td>25</td><td>0</td><td>97</td><td>2</td><td>4</td><td>1</td><td>0</td><td>null</td><td>null</td><td>null</td><td>null</td><td>null</td></tr><tr><td>&quot;aardsda01&quot;</td><td>2008</td><td>1</td><td>&quot;BOS&quot;</td><td>&quot;AL&quot;</td><td>&quot;P&quot;</td><td>47</td><td>0</td><td>146</td><td>3</td><td>6</td><td>0</td><td>0</td><td>null</td><td>null</td><td>null</td><td>null</td><td>null</td></tr><tr><td>&quot;aardsda01&quot;</td><td>2009</td><td>1</td><td>&quot;SEA&quot;</td><td>&quot;AL&quot;</td><td>&quot;P&quot;</td><td>73</td><td>0</td><td>214</td><td>2</td><td>5</td><td>0</td><td>1</td><td>null</td><td>null</td><td>null</td><td>null</td><td>null</td></tr></tbody></table></div>"
      ],
      "text/plain": [
       "shape: (5, 18)\n",
       "┌───────────┬────────┬───────┬────────┬───┬──────┬──────┬──────┬──────┐\n",
       "│ playerID  ┆ yearID ┆ stint ┆ teamID ┆ … ┆ WP   ┆ SB   ┆ CS   ┆ ZR   │\n",
       "│ ---       ┆ ---    ┆ ---   ┆ ---    ┆   ┆ ---  ┆ ---  ┆ ---  ┆ ---  │\n",
       "│ str       ┆ i64    ┆ i64   ┆ str    ┆   ┆ str  ┆ str  ┆ str  ┆ str  │\n",
       "╞═══════════╪════════╪═══════╪════════╪═══╪══════╪══════╪══════╪══════╡\n",
       "│ aardsda01 ┆ 2004   ┆ 1     ┆ SFN    ┆ … ┆ null ┆ null ┆ null ┆ null │\n",
       "│ aardsda01 ┆ 2006   ┆ 1     ┆ CHN    ┆ … ┆ null ┆ null ┆ null ┆ null │\n",
       "│ aardsda01 ┆ 2007   ┆ 1     ┆ CHA    ┆ … ┆ null ┆ null ┆ null ┆ null │\n",
       "│ aardsda01 ┆ 2008   ┆ 1     ┆ BOS    ┆ … ┆ null ┆ null ┆ null ┆ null │\n",
       "│ aardsda01 ┆ 2009   ┆ 1     ┆ SEA    ┆ … ┆ null ┆ null ┆ null ┆ null │\n",
       "└───────────┴────────┴───────┴────────┴───┴──────┴──────┴──────┴──────┘"
      ]
     },
     "execution_count": 15,
     "metadata": {},
     "output_type": "execute_result"
    }
   ],
   "source": [
    "fielding = pl.read_csv(\"./data/lahman_1871-2023_csv/Fielding.csv\")\n",
    "fielding.head()"
   ]
  },
  {
   "cell_type": "code",
   "execution_count": 19,
   "id": "3e80659a-01d1-4f52-951c-3b9268eb1fec",
   "metadata": {},
   "outputs": [
    {
     "data": {
      "text/html": [
       "<div><style>\n",
       ".dataframe > thead > tr,\n",
       ".dataframe > tbody > tr {\n",
       "  text-align: right;\n",
       "  white-space: pre-wrap;\n",
       "}\n",
       "</style>\n",
       "<small>shape: (14_135, 10)</small><table border=\"1\" class=\"dataframe\"><thead><tr><th>playerID</th><th>yearID</th><th>stint</th><th>G</th><th>GS</th><th>InnOuts</th><th>PO</th><th>A</th><th>E</th><th>DP</th></tr><tr><td>str</td><td>i64</td><td>i64</td><td>i64</td><td>i64</td><td>i64</td><td>i64</td><td>i64</td><td>i64</td><td>i64</td></tr></thead><tbody><tr><td>&quot;lindsma01&quot;</td><td>2011</td><td>1</td><td>63</td><td>0</td><td>162</td><td>4</td><td>11</td><td>1</td><td>1</td></tr><tr><td>&quot;beltrad01&quot;</td><td>2015</td><td>1</td><td>142</td><td>142</td><td>3713</td><td>105</td><td>267</td><td>17</td><td>28</td></tr><tr><td>&quot;gonzaca01&quot;</td><td>2011</td><td>1</td><td>125</td><td>122</td><td>3185</td><td>219</td><td>12</td><td>1</td><td>2</td></tr><tr><td>&quot;youngdm01&quot;</td><td>2007</td><td>1</td><td>116</td><td>116</td><td>2654</td><td>788</td><td>61</td><td>9</td><td>90</td></tr><tr><td>&quot;blaloha01&quot;</td><td>2009</td><td>2</td><td>67</td><td>67</td><td>1730</td><td>535</td><td>29</td><td>6</td><td>64</td></tr><tr><td>&hellip;</td><td>&hellip;</td><td>&hellip;</td><td>&hellip;</td><td>&hellip;</td><td>&hellip;</td><td>&hellip;</td><td>&hellip;</td><td>&hellip;</td><td>&hellip;</td></tr><tr><td>&quot;greggke01&quot;</td><td>2012</td><td>1</td><td>40</td><td>0</td><td>131</td><td>4</td><td>5</td><td>0</td><td>1</td></tr><tr><td>&quot;novaiv01&quot;</td><td>2013</td><td>1</td><td>23</td><td>20</td><td>418</td><td>8</td><td>18</td><td>0</td><td>1</td></tr><tr><td>&quot;counscr01&quot;</td><td>2011</td><td>4</td><td>63</td><td>28</td><td>947</td><td>42</td><td>86</td><td>2</td><td>16</td></tr><tr><td>&quot;delgara01&quot;</td><td>2013</td><td>1</td><td>20</td><td>19</td><td>349</td><td>6</td><td>10</td><td>1</td><td>1</td></tr><tr><td>&quot;konerpa01&quot;</td><td>2007</td><td>1</td><td>141</td><td>140</td><td>3683</td><td>1180</td><td>71</td><td>5</td><td>131</td></tr></tbody></table></div>"
      ],
      "text/plain": [
       "shape: (14_135, 10)\n",
       "┌───────────┬────────┬───────┬─────┬───┬──────┬─────┬─────┬─────┐\n",
       "│ playerID  ┆ yearID ┆ stint ┆ G   ┆ … ┆ PO   ┆ A   ┆ E   ┆ DP  │\n",
       "│ ---       ┆ ---    ┆ ---   ┆ --- ┆   ┆ ---  ┆ --- ┆ --- ┆ --- │\n",
       "│ str       ┆ i64    ┆ i64   ┆ i64 ┆   ┆ i64  ┆ i64 ┆ i64 ┆ i64 │\n",
       "╞═══════════╪════════╪═══════╪═════╪═══╪══════╪═════╪═════╪═════╡\n",
       "│ lindsma01 ┆ 2011   ┆ 1     ┆ 63  ┆ … ┆ 4    ┆ 11  ┆ 1   ┆ 1   │\n",
       "│ beltrad01 ┆ 2015   ┆ 1     ┆ 142 ┆ … ┆ 105  ┆ 267 ┆ 17  ┆ 28  │\n",
       "│ gonzaca01 ┆ 2011   ┆ 1     ┆ 125 ┆ … ┆ 219  ┆ 12  ┆ 1   ┆ 2   │\n",
       "│ youngdm01 ┆ 2007   ┆ 1     ┆ 116 ┆ … ┆ 788  ┆ 61  ┆ 9   ┆ 90  │\n",
       "│ blaloha01 ┆ 2009   ┆ 2     ┆ 67  ┆ … ┆ 535  ┆ 29  ┆ 6   ┆ 64  │\n",
       "│ …         ┆ …      ┆ …     ┆ …   ┆ … ┆ …    ┆ …   ┆ …   ┆ …   │\n",
       "│ greggke01 ┆ 2012   ┆ 1     ┆ 40  ┆ … ┆ 4    ┆ 5   ┆ 0   ┆ 1   │\n",
       "│ novaiv01  ┆ 2013   ┆ 1     ┆ 23  ┆ … ┆ 8    ┆ 18  ┆ 0   ┆ 1   │\n",
       "│ counscr01 ┆ 2011   ┆ 4     ┆ 63  ┆ … ┆ 42   ┆ 86  ┆ 2   ┆ 16  │\n",
       "│ delgara01 ┆ 2013   ┆ 1     ┆ 20  ┆ … ┆ 6    ┆ 10  ┆ 1   ┆ 1   │\n",
       "│ konerpa01 ┆ 2007   ┆ 1     ┆ 141 ┆ … ┆ 1180 ┆ 71  ┆ 5   ┆ 131 │\n",
       "└───────────┴────────┴───────┴─────┴───┴──────┴─────┴─────┴─────┘"
      ]
     },
     "execution_count": 19,
     "metadata": {},
     "output_type": "execute_result"
    }
   ],
   "source": [
    "fielding_agg = (fielding\n",
    "                .filter(pl.col('yearID') >= 2006,\n",
    "                         pl.col('yearID') <= 2016)\n",
    "                 .group_by(['playerID','yearID'])\n",
    "                 .sum()\n",
    "                # dropping columns in str data type since they cannot be aggregated (sum)\n",
    "                 .drop(['teamID', \n",
    "                        'lgID',\n",
    "                        'POS',\n",
    "                        'PB',\n",
    "                        'WP',\n",
    "                        'SB',\n",
    "                        'CS',\n",
    "                        'ZR'\n",
    "                       ])\n",
    "               )\n",
    "fielding_agg"
   ]
  },
  {
   "cell_type": "code",
   "execution_count": 21,
   "id": "4c40827a-c15b-4272-8f15-58f4e91d11c2",
   "metadata": {},
   "outputs": [
    {
     "data": {
      "text/plain": [
       "[2006, 2007, 2008, 2009, 2010, 2011, 2012, 2013, 2014, 2015, 2016]"
      ]
     },
     "execution_count": 21,
     "metadata": {},
     "output_type": "execute_result"
    }
   ],
   "source": [
    "# Making sure that 11 years of data is included \n",
    "\n",
    "fielding_agg['yearID'].unique().to_list()"
   ]
  },
  {
   "cell_type": "markdown",
   "id": "1dba460b-6d8c-45ba-a42f-99343245edc1",
   "metadata": {
    "jp-MarkdownHeadingCollapsed": true
   },
   "source": [
    "## Pitching"
   ]
  },
  {
   "cell_type": "code",
   "execution_count": 24,
   "id": "760c01f3-4833-454e-af18-b70b8e425689",
   "metadata": {},
   "outputs": [
    {
     "data": {
      "text/html": [
       "<div><style>\n",
       ".dataframe > thead > tr,\n",
       ".dataframe > tbody > tr {\n",
       "  text-align: right;\n",
       "  white-space: pre-wrap;\n",
       "}\n",
       "</style>\n",
       "<small>shape: (5, 30)</small><table border=\"1\" class=\"dataframe\"><thead><tr><th>playerID</th><th>yearID</th><th>stint</th><th>teamID</th><th>lgID</th><th>W</th><th>L</th><th>G</th><th>GS</th><th>CG</th><th>SHO</th><th>SV</th><th>IPouts</th><th>H</th><th>ER</th><th>HR</th><th>BB</th><th>SO</th><th>BAOpp</th><th>ERA</th><th>IBB</th><th>WP</th><th>HBP</th><th>BK</th><th>BFP</th><th>GF</th><th>R</th><th>SH</th><th>SF</th><th>GIDP</th></tr><tr><td>str</td><td>i64</td><td>i64</td><td>str</td><td>str</td><td>i64</td><td>i64</td><td>i64</td><td>i64</td><td>i64</td><td>i64</td><td>i64</td><td>i64</td><td>i64</td><td>i64</td><td>i64</td><td>i64</td><td>i64</td><td>f64</td><td>f64</td><td>i64</td><td>i64</td><td>i64</td><td>i64</td><td>i64</td><td>i64</td><td>i64</td><td>i64</td><td>i64</td><td>i64</td></tr></thead><tbody><tr><td>&quot;aardsda01&quot;</td><td>2004</td><td>1</td><td>&quot;SFN&quot;</td><td>&quot;NL&quot;</td><td>1</td><td>0</td><td>11</td><td>0</td><td>0</td><td>0</td><td>0</td><td>32</td><td>20</td><td>8</td><td>1</td><td>10</td><td>5</td><td>0.417</td><td>6.75</td><td>0</td><td>0</td><td>2</td><td>0</td><td>61</td><td>5</td><td>8</td><td>0</td><td>1</td><td>1</td></tr><tr><td>&quot;aardsda01&quot;</td><td>2006</td><td>1</td><td>&quot;CHN&quot;</td><td>&quot;NL&quot;</td><td>3</td><td>0</td><td>45</td><td>0</td><td>0</td><td>0</td><td>0</td><td>159</td><td>41</td><td>24</td><td>9</td><td>28</td><td>49</td><td>0.214</td><td>4.08</td><td>0</td><td>1</td><td>1</td><td>0</td><td>225</td><td>9</td><td>25</td><td>1</td><td>3</td><td>2</td></tr><tr><td>&quot;aardsda01&quot;</td><td>2007</td><td>1</td><td>&quot;CHA&quot;</td><td>&quot;AL&quot;</td><td>2</td><td>1</td><td>25</td><td>0</td><td>0</td><td>0</td><td>0</td><td>97</td><td>39</td><td>23</td><td>4</td><td>17</td><td>36</td><td>0.3</td><td>6.4</td><td>3</td><td>2</td><td>1</td><td>0</td><td>151</td><td>7</td><td>24</td><td>2</td><td>1</td><td>1</td></tr><tr><td>&quot;aardsda01&quot;</td><td>2008</td><td>1</td><td>&quot;BOS&quot;</td><td>&quot;AL&quot;</td><td>4</td><td>2</td><td>47</td><td>0</td><td>0</td><td>0</td><td>0</td><td>146</td><td>49</td><td>30</td><td>4</td><td>35</td><td>49</td><td>0.268</td><td>5.55</td><td>2</td><td>3</td><td>5</td><td>0</td><td>228</td><td>7</td><td>32</td><td>3</td><td>2</td><td>4</td></tr><tr><td>&quot;aardsda01&quot;</td><td>2009</td><td>1</td><td>&quot;SEA&quot;</td><td>&quot;AL&quot;</td><td>3</td><td>6</td><td>73</td><td>0</td><td>0</td><td>0</td><td>38</td><td>214</td><td>49</td><td>20</td><td>4</td><td>34</td><td>80</td><td>0.19</td><td>2.52</td><td>3</td><td>2</td><td>0</td><td>0</td><td>296</td><td>53</td><td>23</td><td>2</td><td>1</td><td>2</td></tr></tbody></table></div>"
      ],
      "text/plain": [
       "shape: (5, 30)\n",
       "┌───────────┬────────┬───────┬────────┬───┬─────┬─────┬─────┬──────┐\n",
       "│ playerID  ┆ yearID ┆ stint ┆ teamID ┆ … ┆ R   ┆ SH  ┆ SF  ┆ GIDP │\n",
       "│ ---       ┆ ---    ┆ ---   ┆ ---    ┆   ┆ --- ┆ --- ┆ --- ┆ ---  │\n",
       "│ str       ┆ i64    ┆ i64   ┆ str    ┆   ┆ i64 ┆ i64 ┆ i64 ┆ i64  │\n",
       "╞═══════════╪════════╪═══════╪════════╪═══╪═════╪═════╪═════╪══════╡\n",
       "│ aardsda01 ┆ 2004   ┆ 1     ┆ SFN    ┆ … ┆ 8   ┆ 0   ┆ 1   ┆ 1    │\n",
       "│ aardsda01 ┆ 2006   ┆ 1     ┆ CHN    ┆ … ┆ 25  ┆ 1   ┆ 3   ┆ 2    │\n",
       "│ aardsda01 ┆ 2007   ┆ 1     ┆ CHA    ┆ … ┆ 24  ┆ 2   ┆ 1   ┆ 1    │\n",
       "│ aardsda01 ┆ 2008   ┆ 1     ┆ BOS    ┆ … ┆ 32  ┆ 3   ┆ 2   ┆ 4    │\n",
       "│ aardsda01 ┆ 2009   ┆ 1     ┆ SEA    ┆ … ┆ 23  ┆ 2   ┆ 1   ┆ 2    │\n",
       "└───────────┴────────┴───────┴────────┴───┴─────┴─────┴─────┴──────┘"
      ]
     },
     "execution_count": 24,
     "metadata": {},
     "output_type": "execute_result"
    }
   ],
   "source": [
    "pitching = pl.read_csv(\"./data/lahman_1871-2023_csv/Pitching.csv\")\n",
    "pitching.head()"
   ]
  },
  {
   "cell_type": "code",
   "execution_count": 25,
   "id": "d7b2c370-08be-4abd-9c0a-c8ac27a84c71",
   "metadata": {},
   "outputs": [
    {
     "data": {
      "text/html": [
       "<div><style>\n",
       ".dataframe > thead > tr,\n",
       ".dataframe > tbody > tr {\n",
       "  text-align: right;\n",
       "  white-space: pre-wrap;\n",
       "}\n",
       "</style>\n",
       "<small>shape: (7_423, 28)</small><table border=\"1\" class=\"dataframe\"><thead><tr><th>playerID</th><th>yearID</th><th>stint</th><th>W</th><th>L</th><th>G</th><th>GS</th><th>CG</th><th>SHO</th><th>SV</th><th>IPouts</th><th>H</th><th>ER</th><th>HR</th><th>BB</th><th>SO</th><th>BAOpp</th><th>ERA</th><th>IBB</th><th>WP</th><th>HBP</th><th>BK</th><th>BFP</th><th>GF</th><th>R</th><th>SH</th><th>SF</th><th>GIDP</th></tr><tr><td>str</td><td>i64</td><td>i64</td><td>i64</td><td>i64</td><td>i64</td><td>i64</td><td>i64</td><td>i64</td><td>i64</td><td>i64</td><td>i64</td><td>i64</td><td>i64</td><td>i64</td><td>i64</td><td>f64</td><td>f64</td><td>i64</td><td>i64</td><td>i64</td><td>i64</td><td>i64</td><td>i64</td><td>i64</td><td>i64</td><td>i64</td><td>i64</td></tr></thead><tbody><tr><td>&quot;martelu01&quot;</td><td>2012</td><td>1</td><td>1</td><td>0</td><td>13</td><td>0</td><td>0</td><td>0</td><td>0</td><td>67</td><td>19</td><td>7</td><td>4</td><td>9</td><td>19</td><td>0.229</td><td>2.82</td><td>0</td><td>1</td><td>1</td><td>0</td><td>93</td><td>4</td><td>7</td><td>0</td><td>0</td><td>3</td></tr><tr><td>&quot;delgara01&quot;</td><td>2011</td><td>1</td><td>1</td><td>1</td><td>7</td><td>7</td><td>0</td><td>0</td><td>0</td><td>105</td><td>29</td><td>11</td><td>5</td><td>14</td><td>18</td><td>0.22</td><td>2.83</td><td>1</td><td>2</td><td>1</td><td>0</td><td>147</td><td>0</td><td>12</td><td>0</td><td>0</td><td>1</td></tr><tr><td>&quot;santose01&quot;</td><td>2011</td><td>1</td><td>4</td><td>5</td><td>63</td><td>0</td><td>0</td><td>0</td><td>30</td><td>190</td><td>41</td><td>25</td><td>6</td><td>29</td><td>92</td><td>0.181</td><td>3.55</td><td>5</td><td>5</td><td>3</td><td>0</td><td>260</td><td>50</td><td>25</td><td>1</td><td>1</td><td>4</td></tr><tr><td>&quot;mujiced01&quot;</td><td>2015</td><td>3</td><td>3</td><td>5</td><td>49</td><td>0</td><td>0</td><td>0</td><td>1</td><td>142</td><td>52</td><td>25</td><td>10</td><td>7</td><td>30</td><td>0.574</td><td>9.42</td><td>2</td><td>1</td><td>1</td><td>3</td><td>194</td><td>13</td><td>28</td><td>2</td><td>1</td><td>10</td></tr><tr><td>&quot;hansade01&quot;</td><td>2006</td><td>1</td><td>1</td><td>1</td><td>2</td><td>2</td><td>1</td><td>1</td><td>0</td><td>30</td><td>6</td><td>3</td><td>2</td><td>1</td><td>8</td><td>0.171</td><td>2.7</td><td>0</td><td>0</td><td>0</td><td>0</td><td>36</td><td>0</td><td>3</td><td>0</td><td>0</td><td>1</td></tr><tr><td>&hellip;</td><td>&hellip;</td><td>&hellip;</td><td>&hellip;</td><td>&hellip;</td><td>&hellip;</td><td>&hellip;</td><td>&hellip;</td><td>&hellip;</td><td>&hellip;</td><td>&hellip;</td><td>&hellip;</td><td>&hellip;</td><td>&hellip;</td><td>&hellip;</td><td>&hellip;</td><td>&hellip;</td><td>&hellip;</td><td>&hellip;</td><td>&hellip;</td><td>&hellip;</td><td>&hellip;</td><td>&hellip;</td><td>&hellip;</td><td>&hellip;</td><td>&hellip;</td><td>&hellip;</td><td>&hellip;</td></tr><tr><td>&quot;guerrma02&quot;</td><td>2013</td><td>3</td><td>4</td><td>4</td><td>49</td><td>0</td><td>0</td><td>0</td><td>0</td><td>128</td><td>43</td><td>19</td><td>3</td><td>17</td><td>30</td><td>0.522</td><td>6.93</td><td>2</td><td>0</td><td>1</td><td>0</td><td>181</td><td>7</td><td>22</td><td>2</td><td>2</td><td>5</td></tr><tr><td>&quot;hesslke01&quot;</td><td>2016</td><td>3</td><td>1</td><td>0</td><td>17</td><td>0</td><td>0</td><td>0</td><td>0</td><td>65</td><td>24</td><td>10</td><td>2</td><td>13</td><td>11</td><td>0.614</td><td>12.38</td><td>2</td><td>0</td><td>1</td><td>0</td><td>103</td><td>5</td><td>10</td><td>1</td><td>0</td><td>1</td></tr><tr><td>&quot;nolasri01&quot;</td><td>2009</td><td>1</td><td>13</td><td>9</td><td>31</td><td>31</td><td>2</td><td>0</td><td>0</td><td>555</td><td>188</td><td>104</td><td>23</td><td>44</td><td>195</td><td>0.259</td><td>5.06</td><td>7</td><td>2</td><td>2</td><td>0</td><td>785</td><td>0</td><td>111</td><td>8</td><td>5</td><td>7</td></tr><tr><td>&quot;wilsoty01&quot;</td><td>2015</td><td>1</td><td>2</td><td>2</td><td>9</td><td>5</td><td>0</td><td>0</td><td>0</td><td>108</td><td>39</td><td>14</td><td>1</td><td>11</td><td>13</td><td>0.289</td><td>3.5</td><td>1</td><td>0</td><td>1</td><td>0</td><td>149</td><td>2</td><td>14</td><td>0</td><td>2</td><td>6</td></tr><tr><td>&quot;zieglbr01&quot;</td><td>2008</td><td>1</td><td>3</td><td>0</td><td>47</td><td>0</td><td>0</td><td>0</td><td>11</td><td>179</td><td>47</td><td>7</td><td>2</td><td>22</td><td>30</td><td>0.236</td><td>1.06</td><td>3</td><td>0</td><td>1</td><td>0</td><td>229</td><td>21</td><td>8</td><td>4</td><td>3</td><td>20</td></tr></tbody></table></div>"
      ],
      "text/plain": [
       "shape: (7_423, 28)\n",
       "┌───────────┬────────┬───────┬─────┬───┬─────┬─────┬─────┬──────┐\n",
       "│ playerID  ┆ yearID ┆ stint ┆ W   ┆ … ┆ R   ┆ SH  ┆ SF  ┆ GIDP │\n",
       "│ ---       ┆ ---    ┆ ---   ┆ --- ┆   ┆ --- ┆ --- ┆ --- ┆ ---  │\n",
       "│ str       ┆ i64    ┆ i64   ┆ i64 ┆   ┆ i64 ┆ i64 ┆ i64 ┆ i64  │\n",
       "╞═══════════╪════════╪═══════╪═════╪═══╪═════╪═════╪═════╪══════╡\n",
       "│ martelu01 ┆ 2012   ┆ 1     ┆ 1   ┆ … ┆ 7   ┆ 0   ┆ 0   ┆ 3    │\n",
       "│ delgara01 ┆ 2011   ┆ 1     ┆ 1   ┆ … ┆ 12  ┆ 0   ┆ 0   ┆ 1    │\n",
       "│ santose01 ┆ 2011   ┆ 1     ┆ 4   ┆ … ┆ 25  ┆ 1   ┆ 1   ┆ 4    │\n",
       "│ mujiced01 ┆ 2015   ┆ 3     ┆ 3   ┆ … ┆ 28  ┆ 2   ┆ 1   ┆ 10   │\n",
       "│ hansade01 ┆ 2006   ┆ 1     ┆ 1   ┆ … ┆ 3   ┆ 0   ┆ 0   ┆ 1    │\n",
       "│ …         ┆ …      ┆ …     ┆ …   ┆ … ┆ …   ┆ …   ┆ …   ┆ …    │\n",
       "│ guerrma02 ┆ 2013   ┆ 3     ┆ 4   ┆ … ┆ 22  ┆ 2   ┆ 2   ┆ 5    │\n",
       "│ hesslke01 ┆ 2016   ┆ 3     ┆ 1   ┆ … ┆ 10  ┆ 1   ┆ 0   ┆ 1    │\n",
       "│ nolasri01 ┆ 2009   ┆ 1     ┆ 13  ┆ … ┆ 111 ┆ 8   ┆ 5   ┆ 7    │\n",
       "│ wilsoty01 ┆ 2015   ┆ 1     ┆ 2   ┆ … ┆ 14  ┆ 0   ┆ 2   ┆ 6    │\n",
       "│ zieglbr01 ┆ 2008   ┆ 1     ┆ 3   ┆ … ┆ 8   ┆ 4   ┆ 3   ┆ 20   │\n",
       "└───────────┴────────┴───────┴─────┴───┴─────┴─────┴─────┴──────┘"
      ]
     },
     "execution_count": 25,
     "metadata": {},
     "output_type": "execute_result"
    }
   ],
   "source": [
    "pitching_clean = (pitching\n",
    "                  .filter(pl.col('yearID') >= 2006,\n",
    "                          pl.col('yearID') <= 2016)\n",
    "                  .group_by(['playerID','yearID'])\n",
    "                  .sum()\n",
    "                  .drop(['teamID','lgID'])\n",
    "                 )\n",
    "pitching_clean"
   ]
  },
  {
   "cell_type": "code",
   "execution_count": 26,
   "id": "e7dec107-7c14-4f53-b7b6-ca88ab21c603",
   "metadata": {},
   "outputs": [
    {
     "data": {
      "text/plain": [
       "[2006, 2007, 2008, 2009, 2010, 2011, 2012, 2013, 2014, 2015, 2016]"
      ]
     },
     "execution_count": 26,
     "metadata": {},
     "output_type": "execute_result"
    }
   ],
   "source": [
    "# Making sure that 11 years of data is included \n",
    "\n",
    "pitching_clean['yearID'].unique().to_list()"
   ]
  },
  {
   "cell_type": "markdown",
   "id": "98226e48-62fc-48d9-98e4-f6736b98f52a",
   "metadata": {
    "jp-MarkdownHeadingCollapsed": true
   },
   "source": [
    "## Join"
   ]
  },
  {
   "cell_type": "code",
   "execution_count": 69,
   "id": "c2c42d45-5317-463c-88ec-3f0a0545b775",
   "metadata": {},
   "outputs": [
    {
     "data": {
      "text/html": [
       "<div><style>\n",
       ".dataframe > thead > tr,\n",
       ".dataframe > tbody > tr {\n",
       "  text-align: right;\n",
       "  white-space: pre-wrap;\n",
       "}\n",
       "</style>\n",
       "<small>shape: (31_169, 51)</small><table border=\"1\" class=\"dataframe\"><thead><tr><th>playerID</th><th>yearID</th><th>stint</th><th>G</th><th>G_batting</th><th>AB</th><th>R</th><th>H</th><th>2B</th><th>3B</th><th>HR</th><th>RBI</th><th>SB</th><th>CS</th><th>BB</th><th>SO</th><th>IBB</th><th>HBP</th><th>SH</th><th>SF</th><th>GIDP</th><th>lgID</th><th>POS</th><th>playerID_right</th><th>yearID_right</th><th>stint_right</th><th>W</th><th>L</th><th>G_right</th><th>GS</th><th>CG</th><th>SHO</th><th>SV</th><th>IPouts</th><th>H_right</th><th>ER</th><th>HR_right</th><th>BB_right</th><th>SO_right</th><th>BAOpp</th><th>ERA</th><th>IBB_right</th><th>WP</th><th>HBP_right</th><th>BK</th><th>BFP</th><th>GF</th><th>R_right</th><th>SH_right</th><th>SF_right</th><th>GIDP_right</th></tr><tr><td>str</td><td>i64</td><td>i64</td><td>i64</td><td>i64</td><td>i64</td><td>i64</td><td>i64</td><td>i64</td><td>i64</td><td>i64</td><td>i64</td><td>i64</td><td>i64</td><td>i64</td><td>i64</td><td>i64</td><td>i64</td><td>i64</td><td>i64</td><td>i64</td><td>str</td><td>str</td><td>str</td><td>i64</td><td>i64</td><td>i64</td><td>i64</td><td>i64</td><td>i64</td><td>i64</td><td>i64</td><td>i64</td><td>i64</td><td>i64</td><td>i64</td><td>i64</td><td>i64</td><td>i64</td><td>f64</td><td>f64</td><td>i64</td><td>i64</td><td>i64</td><td>i64</td><td>i64</td><td>i64</td><td>i64</td><td>i64</td><td>i64</td><td>i64</td></tr></thead><tbody><tr><td>&quot;aardsda01&quot;</td><td>2013</td><td>1</td><td>43</td><td>0</td><td>0</td><td>0</td><td>0</td><td>0</td><td>0</td><td>0</td><td>0</td><td>0</td><td>0</td><td>0</td><td>0</td><td>0</td><td>0</td><td>0</td><td>0</td><td>0</td><td>&quot;NL&quot;</td><td>&quot;P&quot;</td><td>&quot;aardsda01&quot;</td><td>2013</td><td>1</td><td>2</td><td>2</td><td>43</td><td>0</td><td>0</td><td>0</td><td>0</td><td>119</td><td>39</td><td>19</td><td>7</td><td>19</td><td>36</td><td>0.257</td><td>4.31</td><td>6</td><td>1</td><td>4</td><td>1</td><td>178</td><td>7</td><td>20</td><td>2</td><td>1</td><td>2</td></tr><tr><td>&quot;aardsda01&quot;</td><td>2015</td><td>1</td><td>33</td><td>0</td><td>1</td><td>0</td><td>0</td><td>0</td><td>0</td><td>0</td><td>0</td><td>0</td><td>0</td><td>0</td><td>1</td><td>0</td><td>0</td><td>0</td><td>0</td><td>0</td><td>&quot;NL&quot;</td><td>&quot;P&quot;</td><td>&quot;aardsda01&quot;</td><td>2015</td><td>1</td><td>1</td><td>1</td><td>33</td><td>0</td><td>0</td><td>0</td><td>0</td><td>92</td><td>25</td><td>16</td><td>6</td><td>14</td><td>35</td><td>0.223</td><td>4.7</td><td>3</td><td>1</td><td>1</td><td>0</td><td>129</td><td>9</td><td>17</td><td>0</td><td>1</td><td>4</td></tr><tr><td>&quot;abadfe01&quot;</td><td>2013</td><td>1</td><td>39</td><td>0</td><td>0</td><td>0</td><td>0</td><td>0</td><td>0</td><td>0</td><td>0</td><td>0</td><td>0</td><td>0</td><td>0</td><td>0</td><td>0</td><td>0</td><td>0</td><td>0</td><td>&quot;NL&quot;</td><td>&quot;P&quot;</td><td>&quot;abadfe01&quot;</td><td>2013</td><td>1</td><td>0</td><td>3</td><td>39</td><td>0</td><td>0</td><td>0</td><td>0</td><td>113</td><td>42</td><td>14</td><td>3</td><td>10</td><td>32</td><td>0.271</td><td>3.35</td><td>0</td><td>0</td><td>1</td><td>0</td><td>166</td><td>17</td><td>14</td><td>0</td><td>0</td><td>0</td></tr><tr><td>&quot;abadfe01&quot;</td><td>2014</td><td>1</td><td>69</td><td>0</td><td>0</td><td>0</td><td>0</td><td>0</td><td>0</td><td>0</td><td>0</td><td>0</td><td>0</td><td>0</td><td>0</td><td>0</td><td>0</td><td>0</td><td>0</td><td>0</td><td>&quot;AL&quot;</td><td>&quot;P&quot;</td><td>&quot;abadfe01&quot;</td><td>2014</td><td>1</td><td>2</td><td>4</td><td>69</td><td>0</td><td>0</td><td>0</td><td>0</td><td>172</td><td>34</td><td>10</td><td>4</td><td>15</td><td>51</td><td>0.175</td><td>1.57</td><td>3</td><td>0</td><td>4</td><td>0</td><td>216</td><td>17</td><td>11</td><td>1</td><td>2</td><td>6</td></tr><tr><td>&quot;abadfe01&quot;</td><td>2015</td><td>1</td><td>62</td><td>0</td><td>0</td><td>0</td><td>0</td><td>0</td><td>0</td><td>0</td><td>0</td><td>0</td><td>0</td><td>0</td><td>0</td><td>0</td><td>0</td><td>0</td><td>0</td><td>0</td><td>&quot;AL&quot;</td><td>&quot;P&quot;</td><td>&quot;abadfe01&quot;</td><td>2015</td><td>1</td><td>2</td><td>2</td><td>62</td><td>0</td><td>0</td><td>0</td><td>0</td><td>143</td><td>45</td><td>22</td><td>11</td><td>19</td><td>45</td><td>0.251</td><td>4.15</td><td>3</td><td>4</td><td>1</td><td>0</td><td>205</td><td>17</td><td>23</td><td>3</td><td>3</td><td>1</td></tr><tr><td>&hellip;</td><td>&hellip;</td><td>&hellip;</td><td>&hellip;</td><td>&hellip;</td><td>&hellip;</td><td>&hellip;</td><td>&hellip;</td><td>&hellip;</td><td>&hellip;</td><td>&hellip;</td><td>&hellip;</td><td>&hellip;</td><td>&hellip;</td><td>&hellip;</td><td>&hellip;</td><td>&hellip;</td><td>&hellip;</td><td>&hellip;</td><td>&hellip;</td><td>&hellip;</td><td>&hellip;</td><td>&hellip;</td><td>&hellip;</td><td>&hellip;</td><td>&hellip;</td><td>&hellip;</td><td>&hellip;</td><td>&hellip;</td><td>&hellip;</td><td>&hellip;</td><td>&hellip;</td><td>&hellip;</td><td>&hellip;</td><td>&hellip;</td><td>&hellip;</td><td>&hellip;</td><td>&hellip;</td><td>&hellip;</td><td>&hellip;</td><td>&hellip;</td><td>&hellip;</td><td>&hellip;</td><td>&hellip;</td><td>&hellip;</td><td>&hellip;</td><td>&hellip;</td><td>&hellip;</td><td>&hellip;</td><td>&hellip;</td><td>&hellip;</td></tr><tr><td>&quot;gobblji01&quot;</td><td>2008</td><td>1</td><td>39</td><td>0</td><td>0</td><td>0</td><td>0</td><td>0</td><td>0</td><td>0</td><td>0</td><td>0</td><td>0</td><td>0</td><td>0</td><td>0</td><td>0</td><td>0</td><td>0</td><td>0</td><td>null</td><td>null</td><td>&quot;gobblji01&quot;</td><td>2008</td><td>1</td><td>0</td><td>2</td><td>39</td><td>0</td><td>0</td><td>0</td><td>1</td><td>95</td><td>39</td><td>31</td><td>5</td><td>23</td><td>27</td><td>0.293</td><td>8.81</td><td>1</td><td>6</td><td>2</td><td>0</td><td>159</td><td>10</td><td>31</td><td>0</td><td>1</td><td>0</td></tr><tr><td>&quot;gutiefr01&quot;</td><td>2006</td><td>1</td><td>43</td><td>0</td><td>136</td><td>21</td><td>37</td><td>9</td><td>0</td><td>1</td><td>8</td><td>0</td><td>0</td><td>3</td><td>28</td><td>0</td><td>0</td><td>2</td><td>0</td><td>4</td><td>null</td><td>null</td><td>null</td><td>null</td><td>null</td><td>null</td><td>null</td><td>null</td><td>null</td><td>null</td><td>null</td><td>null</td><td>null</td><td>null</td><td>null</td><td>null</td><td>null</td><td>null</td><td>null</td><td>null</td><td>null</td><td>null</td><td>null</td><td>null</td><td>null</td><td>null</td><td>null</td><td>null</td><td>null</td><td>null</td></tr><tr><td>&quot;baileje01&quot;</td><td>2007</td><td>1</td><td>3</td><td>0</td><td>9</td><td>1</td><td>1</td><td>0</td><td>0</td><td>1</td><td>1</td><td>0</td><td>0</td><td>0</td><td>1</td><td>0</td><td>0</td><td>0</td><td>0</td><td>0</td><td>null</td><td>null</td><td>null</td><td>null</td><td>null</td><td>null</td><td>null</td><td>null</td><td>null</td><td>null</td><td>null</td><td>null</td><td>null</td><td>null</td><td>null</td><td>null</td><td>null</td><td>null</td><td>null</td><td>null</td><td>null</td><td>null</td><td>null</td><td>null</td><td>null</td><td>null</td><td>null</td><td>null</td><td>null</td><td>null</td></tr><tr><td>&quot;tallebr01&quot;</td><td>2009</td><td>1</td><td>37</td><td>0</td><td>2</td><td>0</td><td>0</td><td>0</td><td>0</td><td>0</td><td>0</td><td>0</td><td>0</td><td>0</td><td>1</td><td>0</td><td>0</td><td>0</td><td>0</td><td>0</td><td>null</td><td>null</td><td>&quot;tallebr01&quot;</td><td>2009</td><td>1</td><td>7</td><td>9</td><td>37</td><td>25</td><td>0</td><td>0</td><td>0</td><td>482</td><td>169</td><td>95</td><td>20</td><td>72</td><td>120</td><td>0.268</td><td>5.32</td><td>2</td><td>2</td><td>6</td><td>0</td><td>717</td><td>3</td><td>99</td><td>1</td><td>7</td><td>10</td></tr><tr><td>&quot;mccluse01&quot;</td><td>2007</td><td>1</td><td>14</td><td>0</td><td>0</td><td>0</td><td>0</td><td>0</td><td>0</td><td>0</td><td>0</td><td>0</td><td>0</td><td>0</td><td>0</td><td>0</td><td>0</td><td>0</td><td>0</td><td>0</td><td>null</td><td>null</td><td>&quot;mccluse01&quot;</td><td>2007</td><td>1</td><td>0</td><td>1</td><td>14</td><td>0</td><td>0</td><td>0</td><td>0</td><td>36</td><td>11</td><td>5</td><td>0</td><td>5</td><td>11</td><td>0.25</td><td>3.75</td><td>0</td><td>0</td><td>1</td><td>0</td><td>51</td><td>1</td><td>9</td><td>0</td><td>1</td><td>3</td></tr></tbody></table></div>"
      ],
      "text/plain": [
       "shape: (31_169, 51)\n",
       "┌───────────┬────────┬───────┬─────┬───┬─────────┬──────────┬──────────┬────────────┐\n",
       "│ playerID  ┆ yearID ┆ stint ┆ G   ┆ … ┆ R_right ┆ SH_right ┆ SF_right ┆ GIDP_right │\n",
       "│ ---       ┆ ---    ┆ ---   ┆ --- ┆   ┆ ---     ┆ ---      ┆ ---      ┆ ---        │\n",
       "│ str       ┆ i64    ┆ i64   ┆ i64 ┆   ┆ i64     ┆ i64      ┆ i64      ┆ i64        │\n",
       "╞═══════════╪════════╪═══════╪═════╪═══╪═════════╪══════════╪══════════╪════════════╡\n",
       "│ aardsda01 ┆ 2013   ┆ 1     ┆ 43  ┆ … ┆ 20      ┆ 2        ┆ 1        ┆ 2          │\n",
       "│ aardsda01 ┆ 2015   ┆ 1     ┆ 33  ┆ … ┆ 17      ┆ 0        ┆ 1        ┆ 4          │\n",
       "│ abadfe01  ┆ 2013   ┆ 1     ┆ 39  ┆ … ┆ 14      ┆ 0        ┆ 0        ┆ 0          │\n",
       "│ abadfe01  ┆ 2014   ┆ 1     ┆ 69  ┆ … ┆ 11      ┆ 1        ┆ 2        ┆ 6          │\n",
       "│ abadfe01  ┆ 2015   ┆ 1     ┆ 62  ┆ … ┆ 23      ┆ 3        ┆ 3        ┆ 1          │\n",
       "│ …         ┆ …      ┆ …     ┆ …   ┆ … ┆ …       ┆ …        ┆ …        ┆ …          │\n",
       "│ gobblji01 ┆ 2008   ┆ 1     ┆ 39  ┆ … ┆ 31      ┆ 0        ┆ 1        ┆ 0          │\n",
       "│ gutiefr01 ┆ 2006   ┆ 1     ┆ 43  ┆ … ┆ null    ┆ null     ┆ null     ┆ null       │\n",
       "│ baileje01 ┆ 2007   ┆ 1     ┆ 3   ┆ … ┆ null    ┆ null     ┆ null     ┆ null       │\n",
       "│ tallebr01 ┆ 2009   ┆ 1     ┆ 37  ┆ … ┆ 99      ┆ 1        ┆ 7        ┆ 10         │\n",
       "│ mccluse01 ┆ 2007   ┆ 1     ┆ 14  ┆ … ┆ 9       ┆ 0        ┆ 1        ┆ 3          │\n",
       "└───────────┴────────┴───────┴─────┴───┴─────────┴──────────┴──────────┴────────────┘"
      ]
     },
     "execution_count": 69,
     "metadata": {},
     "output_type": "execute_result"
    }
   ],
   "source": [
    "batting_fielding_pitching = (batting_clean\n",
    "                             .join(fielding_clean,\n",
    "                                  on = ['playerID','yearID'],\n",
    "                                  how = 'full'\n",
    "                                  )\n",
    "                             # dropping duplicated columns\n",
    "                             .drop(['playerID_right', \n",
    "                                    'yearID_right'\n",
    "                                   ])\n",
    "                             .join(pitching_clean,\n",
    "                                  on = ['playerID','yearID'],\n",
    "                                  how = 'full'\n",
    "                                  )\n",
    "                            )\n",
    "batting_fielding_pitching"
   ]
  },
  {
   "cell_type": "code",
   "execution_count": 73,
   "id": "7c3cd5d5-fe99-4ea5-8fcc-e29c4cf1a616",
   "metadata": {},
   "outputs": [
    {
     "data": {
      "text/html": [
       "<div><style>\n",
       ".dataframe > thead > tr,\n",
       ".dataframe > tbody > tr {\n",
       "  text-align: right;\n",
       "  white-space: pre-wrap;\n",
       "}\n",
       "</style>\n",
       "<small>shape: (10_685, 38)</small><table border=\"1\" class=\"dataframe\"><thead><tr><th>playerID</th><th>yearID</th><th>salary</th><th>stint</th><th>G</th><th>G_batting</th><th>AB</th><th>R</th><th>H</th><th>2B</th><th>3B</th><th>HR</th><th>RBI</th><th>SB</th><th>CS</th><th>BB</th><th>SO</th><th>IBB</th><th>HBP</th><th>SH</th><th>SF</th><th>GIDP</th><th>W</th><th>L</th><th>GS</th><th>CG</th><th>SHO</th><th>SV</th><th>IPouts</th><th>ER</th><th>HR_right</th><th>BAOpp</th><th>ERA</th><th>WP</th><th>BK</th><th>BFP</th><th>GF</th><th>Training_Validation</th></tr><tr><td>str</td><td>i64</td><td>f64</td><td>i64</td><td>i64</td><td>i64</td><td>i64</td><td>i64</td><td>i64</td><td>i64</td><td>i64</td><td>i64</td><td>i64</td><td>i64</td><td>i64</td><td>i64</td><td>i64</td><td>i64</td><td>i64</td><td>i64</td><td>i64</td><td>i64</td><td>i64</td><td>i64</td><td>i64</td><td>i64</td><td>i64</td><td>i64</td><td>i64</td><td>i64</td><td>i64</td><td>f64</td><td>f64</td><td>i64</td><td>i64</td><td>i64</td><td>i64</td><td>str</td></tr></thead><tbody><tr><td>&quot;metcatr01&quot;</td><td>2008</td><td>392000.0</td><td>1</td><td>23</td><td>0</td><td>56</td><td>11</td><td>13</td><td>2</td><td>0</td><td>6</td><td>14</td><td>0</td><td>0</td><td>3</td><td>12</td><td>0</td><td>1</td><td>0</td><td>1</td><td>2</td><td>null</td><td>null</td><td>null</td><td>null</td><td>null</td><td>null</td><td>null</td><td>null</td><td>null</td><td>null</td><td>null</td><td>null</td><td>null</td><td>null</td><td>null</td><td>&quot;Training&quot;</td></tr><tr><td>&quot;garkory01&quot;</td><td>2010</td><td>550000.0</td><td>1</td><td>15</td><td>0</td><td>33</td><td>0</td><td>3</td><td>0</td><td>0</td><td>0</td><td>3</td><td>0</td><td>0</td><td>3</td><td>4</td><td>1</td><td>0</td><td>2</td><td>0</td><td>1</td><td>null</td><td>null</td><td>null</td><td>null</td><td>null</td><td>null</td><td>null</td><td>null</td><td>null</td><td>null</td><td>null</td><td>null</td><td>null</td><td>null</td><td>null</td><td>&quot;Training&quot;</td></tr><tr><td>&quot;sanchga01&quot;</td><td>2012</td><td>483000.0</td><td>3</td><td>105</td><td>0</td><td>299</td><td>30</td><td>65</td><td>16</td><td>0</td><td>7</td><td>30</td><td>1</td><td>0</td><td>25</td><td>56</td><td>2</td><td>1</td><td>0</td><td>1</td><td>13</td><td>null</td><td>null</td><td>null</td><td>null</td><td>null</td><td>null</td><td>null</td><td>null</td><td>null</td><td>null</td><td>null</td><td>null</td><td>null</td><td>null</td><td>null</td><td>&quot;Training&quot;</td></tr><tr><td>&quot;hoffmtr01&quot;</td><td>2007</td><td>7e6</td><td>1</td><td>61</td><td>0</td><td>0</td><td>0</td><td>0</td><td>0</td><td>0</td><td>0</td><td>0</td><td>0</td><td>0</td><td>0</td><td>0</td><td>0</td><td>0</td><td>0</td><td>0</td><td>0</td><td>4</td><td>5</td><td>0</td><td>0</td><td>0</td><td>42</td><td>172</td><td>19</td><td>2</td><td>0.228</td><td>2.98</td><td>0</td><td>0</td><td>235</td><td>50</td><td>&quot;Training&quot;</td></tr><tr><td>&quot;mauerjo01&quot;</td><td>2006</td><td>400000.0</td><td>1</td><td>140</td><td>0</td><td>521</td><td>86</td><td>181</td><td>36</td><td>4</td><td>13</td><td>84</td><td>8</td><td>3</td><td>79</td><td>54</td><td>21</td><td>1</td><td>0</td><td>7</td><td>24</td><td>null</td><td>null</td><td>null</td><td>null</td><td>null</td><td>null</td><td>null</td><td>null</td><td>null</td><td>null</td><td>null</td><td>null</td><td>null</td><td>null</td><td>null</td><td>&quot;Training&quot;</td></tr><tr><td>&hellip;</td><td>&hellip;</td><td>&hellip;</td><td>&hellip;</td><td>&hellip;</td><td>&hellip;</td><td>&hellip;</td><td>&hellip;</td><td>&hellip;</td><td>&hellip;</td><td>&hellip;</td><td>&hellip;</td><td>&hellip;</td><td>&hellip;</td><td>&hellip;</td><td>&hellip;</td><td>&hellip;</td><td>&hellip;</td><td>&hellip;</td><td>&hellip;</td><td>&hellip;</td><td>&hellip;</td><td>&hellip;</td><td>&hellip;</td><td>&hellip;</td><td>&hellip;</td><td>&hellip;</td><td>&hellip;</td><td>&hellip;</td><td>&hellip;</td><td>&hellip;</td><td>&hellip;</td><td>&hellip;</td><td>&hellip;</td><td>&hellip;</td><td>&hellip;</td><td>&hellip;</td><td>&hellip;</td></tr><tr><td>&quot;rodnefe01&quot;</td><td>2009</td><td>2.7e6</td><td>1</td><td>73</td><td>0</td><td>0</td><td>0</td><td>0</td><td>0</td><td>0</td><td>0</td><td>0</td><td>0</td><td>0</td><td>0</td><td>0</td><td>0</td><td>0</td><td>0</td><td>0</td><td>0</td><td>2</td><td>5</td><td>0</td><td>0</td><td>0</td><td>37</td><td>227</td><td>37</td><td>8</td><td>0.249</td><td>4.4</td><td>5</td><td>0</td><td>330</td><td>65</td><td>&quot;Training&quot;</td></tr><tr><td>&quot;floydcl01&quot;</td><td>2009</td><td>750000.0</td><td>1</td><td>10</td><td>0</td><td>16</td><td>0</td><td>2</td><td>0</td><td>0</td><td>0</td><td>0</td><td>0</td><td>0</td><td>1</td><td>7</td><td>0</td><td>0</td><td>0</td><td>0</td><td>0</td><td>null</td><td>null</td><td>null</td><td>null</td><td>null</td><td>null</td><td>null</td><td>null</td><td>null</td><td>null</td><td>null</td><td>null</td><td>null</td><td>null</td><td>null</td><td>&quot;Training&quot;</td></tr><tr><td>&quot;piscost01&quot;</td><td>2016</td><td>512500.0</td><td>1</td><td>153</td><td>0</td><td>582</td><td>86</td><td>159</td><td>35</td><td>3</td><td>22</td><td>85</td><td>7</td><td>5</td><td>51</td><td>133</td><td>0</td><td>12</td><td>1</td><td>2</td><td>14</td><td>null</td><td>null</td><td>null</td><td>null</td><td>null</td><td>null</td><td>null</td><td>null</td><td>null</td><td>null</td><td>null</td><td>null</td><td>null</td><td>null</td><td>null</td><td>&quot;Validation&quot;</td></tr><tr><td>&quot;piscost01&quot;</td><td>2016</td><td>512500.0</td><td>1</td><td>153</td><td>0</td><td>582</td><td>86</td><td>159</td><td>35</td><td>3</td><td>22</td><td>85</td><td>7</td><td>5</td><td>51</td><td>133</td><td>0</td><td>12</td><td>1</td><td>2</td><td>14</td><td>null</td><td>null</td><td>null</td><td>null</td><td>null</td><td>null</td><td>null</td><td>null</td><td>null</td><td>null</td><td>null</td><td>null</td><td>null</td><td>null</td><td>null</td><td>&quot;Validation&quot;</td></tr><tr><td>&quot;aumonph01&quot;</td><td>2013</td><td>490000.0</td><td>1</td><td>22</td><td>0</td><td>0</td><td>0</td><td>0</td><td>0</td><td>0</td><td>0</td><td>0</td><td>0</td><td>0</td><td>0</td><td>0</td><td>0</td><td>0</td><td>0</td><td>0</td><td>0</td><td>1</td><td>3</td><td>0</td><td>0</td><td>0</td><td>0</td><td>58</td><td>9</td><td>0</td><td>0.308</td><td>4.19</td><td>2</td><td>1</td><td>95</td><td>8</td><td>&quot;Training&quot;</td></tr></tbody></table></div>"
      ],
      "text/plain": [
       "shape: (10_685, 38)\n",
       "┌───────────┬────────┬──────────┬───────┬───┬──────┬──────┬──────┬─────────────────────┐\n",
       "│ playerID  ┆ yearID ┆ salary   ┆ stint ┆ … ┆ BK   ┆ BFP  ┆ GF   ┆ Training_Validation │\n",
       "│ ---       ┆ ---    ┆ ---      ┆ ---   ┆   ┆ ---  ┆ ---  ┆ ---  ┆ ---                 │\n",
       "│ str       ┆ i64    ┆ f64      ┆ i64   ┆   ┆ i64  ┆ i64  ┆ i64  ┆ str                 │\n",
       "╞═══════════╪════════╪══════════╪═══════╪═══╪══════╪══════╪══════╪═════════════════════╡\n",
       "│ metcatr01 ┆ 2008   ┆ 392000.0 ┆ 1     ┆ … ┆ null ┆ null ┆ null ┆ Training            │\n",
       "│ garkory01 ┆ 2010   ┆ 550000.0 ┆ 1     ┆ … ┆ null ┆ null ┆ null ┆ Training            │\n",
       "│ sanchga01 ┆ 2012   ┆ 483000.0 ┆ 3     ┆ … ┆ null ┆ null ┆ null ┆ Training            │\n",
       "│ hoffmtr01 ┆ 2007   ┆ 7e6      ┆ 1     ┆ … ┆ 0    ┆ 235  ┆ 50   ┆ Training            │\n",
       "│ mauerjo01 ┆ 2006   ┆ 400000.0 ┆ 1     ┆ … ┆ null ┆ null ┆ null ┆ Training            │\n",
       "│ …         ┆ …      ┆ …        ┆ …     ┆ … ┆ …    ┆ …    ┆ …    ┆ …                   │\n",
       "│ rodnefe01 ┆ 2009   ┆ 2.7e6    ┆ 1     ┆ … ┆ 0    ┆ 330  ┆ 65   ┆ Training            │\n",
       "│ floydcl01 ┆ 2009   ┆ 750000.0 ┆ 1     ┆ … ┆ null ┆ null ┆ null ┆ Training            │\n",
       "│ piscost01 ┆ 2016   ┆ 512500.0 ┆ 1     ┆ … ┆ null ┆ null ┆ null ┆ Validation          │\n",
       "│ piscost01 ┆ 2016   ┆ 512500.0 ┆ 1     ┆ … ┆ null ┆ null ┆ null ┆ Validation          │\n",
       "│ aumonph01 ┆ 2013   ┆ 490000.0 ┆ 1     ┆ … ┆ 1    ┆ 95   ┆ 8    ┆ Training            │\n",
       "└───────────┴────────┴──────────┴───────┴───┴──────┴──────┴──────┴─────────────────────┘"
      ]
     },
     "execution_count": 73,
     "metadata": {},
     "output_type": "execute_result"
    }
   ],
   "source": [
    "# Join 4 tables: salaries_clean, fielding_clean, batting_clean, pitching_clean\n",
    "# Join on: playerID, yearID, lgID, \n",
    "# join fielding, batting, pitching - on full outer \n",
    "\n",
    "salaries_df = (salaries_clean\n",
    "               .join(batting_fielding_pitching,\n",
    "                     on = ['playerID', 'yearID'],\n",
    "                     how = 'left' \n",
    "                    )\n",
    "               # dropping duplicated columns\n",
    "               .drop(['lgID', \n",
    "                      'POS',\n",
    "                      'playerID_right',\n",
    "                      'yearID_right',\n",
    "                      'stint_right',\n",
    "                      'G_right',\n",
    "                      'H_right',\n",
    "                      'BB_right',\n",
    "                      'SO_right',\n",
    "                      'IBB_right',\n",
    "                      'HBP_right',\n",
    "                      'R_right',\n",
    "                      'SH_right',\n",
    "                      'SF_right',\n",
    "                      'GIDP_right'\n",
    "                     ])\n",
    "               .with_columns(Training_Validation = pl.when(pl.col('yearID') == 2016)\n",
    "                                                     .then(pl.lit('Validation'))\n",
    "                                                     .otherwise(pl.lit('Training')))\n",
    "              )\n",
    "salaries_df"
   ]
  },
  {
   "cell_type": "code",
   "execution_count": 43,
   "id": "449b8307-a0cf-428f-8cef-c08b911286e7",
   "metadata": {},
   "outputs": [
    {
     "data": {
      "text/plain": [
       "0"
      ]
     },
     "execution_count": 43,
     "metadata": {},
     "output_type": "execute_result"
    }
   ],
   "source": [
    "# Making sure that there is no null value in 'salary'\n",
    "# because null values cannot be used for prediction in ML \n",
    "\n",
    "join['salary'].is_null().sum()"
   ]
  },
  {
   "cell_type": "code",
   "execution_count": 74,
   "id": "4707436c-0994-47db-88e5-5637bb8e8123",
   "metadata": {},
   "outputs": [],
   "source": [
    "salaries_df.write_csv(\"./data/salaries_df.csv\")"
   ]
  },
  {
   "cell_type": "code",
   "execution_count": null,
   "id": "d77e1f64-7765-46fc-a72b-f3add140a5d2",
   "metadata": {},
   "outputs": [],
   "source": []
  }
 ],
 "metadata": {
  "kernelspec": {
   "display_name": "Python 3 (ipykernel)",
   "language": "python",
   "name": "python3"
  },
  "language_info": {
   "codemirror_mode": {
    "name": "ipython",
    "version": 3
   },
   "file_extension": ".py",
   "mimetype": "text/x-python",
   "name": "python",
   "nbconvert_exporter": "python",
   "pygments_lexer": "ipython3",
   "version": "3.12.5"
  }
 },
 "nbformat": 4,
 "nbformat_minor": 5
}
